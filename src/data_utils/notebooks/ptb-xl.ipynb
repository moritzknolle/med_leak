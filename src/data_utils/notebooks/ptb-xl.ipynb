{
 "cells": [
  {
   "cell_type": "code",
   "execution_count": 1,
   "metadata": {},
   "outputs": [],
   "source": [
    "import pandas as pd                                                                                                                                                              \n",
    "import numpy as np                                                                                                                                                               \n",
    "import wfdb                                                                                                                                                                      \n",
    "import ast\n",
    "from tqdm import tqdm\n",
    "tqdm.pandas()                                                                                                                                                              "
   ]
  },
  {
   "cell_type": "code",
   "execution_count": 2,
   "metadata": {},
   "outputs": [
    {
     "name": "stderr",
     "output_type": "stream",
     "text": [
      "100%|██████████| 21799/21799 [00:32<00:00, 664.85it/s]\n"
     ]
    }
   ],
   "source": [
    "def load_raw_data(df, sampling_rate, path):                                                                                                                                      \n",
    "    if sampling_rate == 100:                                                                                                                                                     \n",
    "        data = [wfdb.rdsamp(path+f) for f in tqdm(df.filename_lr)]                                                                                                                     \n",
    "    else:                                                                                                                                                                        \n",
    "        data = [wfdb.rdsamp(path+f) for f in tqdm(df.filename_hr)]                                                                                                                     \n",
    "    data = np.array([signal for signal, meta in data])                                                                                                                           \n",
    "    return data                                                                                                                                                                  \n",
    "                                                                                                                                                                                 \n",
    "path = '/home/moritz/data/physionet.org/files/ptb-xl/1.0.3/'\n",
    "sampling_rate = 100            \n",
    "\n",
    "# load and convert annotation data                                                                                                                                               \n",
    "df = pd.read_csv(path+'ptbxl_database.csv', index_col='ecg_id')                                                                                                                   \n",
    "df.scp_codes = df.scp_codes.apply(lambda x: ast.literal_eval(x))\n",
    "                                                                                                                                                                               \n",
    "# Load raw signal data                                                                                                                                                           \n",
    "X = load_raw_data(df, sampling_rate, path)                                                                                                                                      "
   ]
  },
  {
   "cell_type": "code",
   "execution_count": 3,
   "metadata": {},
   "outputs": [
    {
     "data": {
      "text/plain": [
       "(np.float64(-0.0007808800556600472),\n",
       " np.float64(0.23539237334110466),\n",
       " np.float64(-20.032),\n",
       " np.float64(17.212))"
      ]
     },
     "execution_count": 3,
     "metadata": {},
     "output_type": "execute_result"
    }
   ],
   "source": [
    "np.mean(X), np.std(X), np.min(X), np.max(X)"
   ]
  },
  {
   "cell_type": "code",
   "execution_count": 4,
   "metadata": {},
   "outputs": [],
   "source": [
    "# prepare binary columns for the five superclasses\n",
    "df[\"NORM\"] = 0\n",
    "df[\"MI\"] = 0\n",
    "df[\"STTC\"] = 0\n",
    "df[\"CD\"] = 0\n",
    "df[\"HYP\"] = 0"
   ]
  },
  {
   "cell_type": "code",
   "execution_count": 5,
   "metadata": {},
   "outputs": [],
   "source": [
    "# Load scp_statements.csv for diagnostic aggregation                                                                                                                             \n",
    "agg_df = pd.read_csv(path+'scp_statements.csv', index_col=0)                                                                                                                     \n",
    "agg_df = agg_df[agg_df.diagnostic == 1]      "
   ]
  },
  {
   "cell_type": "code",
   "execution_count": 6,
   "metadata": {},
   "outputs": [],
   "source": [
    "# aggregate diagnoses into superclasses with a lookup into agg_df\n",
    "def aggregate_diagnostic(row):\n",
    "    for key in row.scp_codes.keys():                                                                                                                                                     \n",
    "        if key in agg_df.index:                                                                                                                                                  \n",
    "            respective_superclass = str(agg_df.loc[key].diagnostic_class)\n",
    "            if respective_superclass[0] == '[':\n",
    "                respective_superclass = ast.literal_eval(respective_superclass)[0]\n",
    "            row[respective_superclass] = 1\n",
    "    return row"
   ]
  },
  {
   "cell_type": "code",
   "execution_count": 7,
   "metadata": {},
   "outputs": [
    {
     "name": "stderr",
     "output_type": "stream",
     "text": [
      "100%|██████████| 21799/21799 [00:02<00:00, 10232.50it/s]\n"
     ]
    }
   ],
   "source": [
    "# Apply diagnostic superclass                                                                                                                                                    \n",
    "df = df.progress_apply(aggregate_diagnostic, axis=1)"
   ]
  },
  {
   "cell_type": "code",
   "execution_count": 8,
   "metadata": {},
   "outputs": [
    {
     "data": {
      "text/plain": [
       "(CD\n",
       " 0    16901\n",
       " 1     4898\n",
       " Name: count, dtype: int64,\n",
       " HYP\n",
       " 0    19150\n",
       " 1     2649\n",
       " Name: count, dtype: int64,\n",
       " MI\n",
       " 0    16330\n",
       " 1     5469\n",
       " Name: count, dtype: int64,\n",
       " NORM\n",
       " 0    12285\n",
       " 1     9514\n",
       " Name: count, dtype: int64,\n",
       " STTC\n",
       " 0    16564\n",
       " 1     5235\n",
       " Name: count, dtype: int64)"
      ]
     },
     "execution_count": 8,
     "metadata": {},
     "output_type": "execute_result"
    }
   ],
   "source": [
    "df.CD.value_counts(dropna=False), df.HYP.value_counts(dropna=False), df.MI.value_counts(dropna=False), df.NORM.value_counts(dropna=False), df.STTC.value_counts(dropna=False)"
   ]
  },
  {
   "cell_type": "code",
   "execution_count": 9,
   "metadata": {},
   "outputs": [],
   "source": [
    "# official train-test split\n",
    "test_fold = 10\n",
    "# inputs\n",
    "X_train = X[np.where(df.strat_fold != test_fold)]\n",
    "X_test = X[np.where(df.strat_fold == test_fold)]\n",
    "# targets\n",
    "train_df = df[(df.strat_fold != test_fold)]\n",
    "test_df = df[(df.strat_fold == test_fold)]"
   ]
  },
  {
   "cell_type": "code",
   "execution_count": 10,
   "metadata": {},
   "outputs": [
    {
     "data": {
      "text/plain": [
       "(19601, 2198)"
      ]
     },
     "execution_count": 10,
     "metadata": {},
     "output_type": "execute_result"
    }
   ],
   "source": [
    "train_df = train_df.reset_index()\n",
    "test_df = test_df.reset_index()\n",
    "assert len(X_train) == len(train_df)\n",
    "assert len(X_test) == len(test_df)\n",
    "len(train_df), len(test_df)"
   ]
  },
  {
   "cell_type": "code",
   "execution_count": 11,
   "metadata": {},
   "outputs": [],
   "source": [
    "train_df.to_csv(\"/home/moritz/repositories/med_leak/data/csv/ptb-xl_train.csv\")\n",
    "test_df.to_csv(\"/home/moritz/repositories/med_leak/data/csv/ptb-xl_test.csv\")"
   ]
  },
  {
   "cell_type": "code",
   "execution_count": 12,
   "metadata": {},
   "outputs": [],
   "source": [
    "np.save(f\"{path}X_{sampling_rate}_train.npy\", X_train)\n",
    "np.save(f\"{path}X_{sampling_rate}_test.npy\", X_test)"
   ]
  }
 ],
 "metadata": {
  "kernelspec": {
   "display_name": "keras",
   "language": "python",
   "name": "python3"
  },
  "language_info": {
   "codemirror_mode": {
    "name": "ipython",
    "version": 3
   },
   "file_extension": ".py",
   "mimetype": "text/x-python",
   "name": "python",
   "nbconvert_exporter": "python",
   "pygments_lexer": "ipython3",
   "version": "3.9.18"
  }
 },
 "nbformat": 4,
 "nbformat_minor": 2
}
