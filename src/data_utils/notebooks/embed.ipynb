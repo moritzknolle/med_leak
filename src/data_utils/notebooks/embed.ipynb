{
 "cells": [
  {
   "cell_type": "code",
   "execution_count": 1,
   "metadata": {},
   "outputs": [],
   "source": [
    "import pandas as pd\n",
    "import matplotlib.pyplot as plt\n",
    "import seaborn as sns\n",
    "import numpy as np\n",
    "from pathlib import Path\n",
    "from pydicom import dcmread\n",
    "from skimage.io import imsave\n",
    "from skimage.transform import resize\n",
    "from tqdm import tqdm\n",
    "import ast, sys\n",
    "sys.path.append(\"/home/moritz/repositories/med_leak/\")\n",
    "np.random.seed(420)\n",
    "tqdm.pandas()"
   ]
  },
  {
   "cell_type": "code",
   "execution_count": 2,
   "metadata": {},
   "outputs": [],
   "source": [
    "%load_ext autoreload\n",
    "%autoreload 2"
   ]
  },
  {
   "cell_type": "code",
   "execution_count": null,
   "metadata": {},
   "outputs": [],
   "source": [
    "base_dir = Path(\"/home/moritz/data_huge/embed_small/tables\")\n",
    "data_dir = Path(\"/home/moritz/data_huge/embed_small/images\")\n",
    "clinical_df = pd.read_csv(base_dir / \"EMBED_OpenData_clinical_reduced.csv\")\n",
    "meta_df = pd.read_csv(base_dir / \"EMBED_OpenData_metadata_reduced.csv\")\n",
    "len(clinical_df), len(meta_df)"
   ]
  },
  {
   "cell_type": "code",
   "execution_count": 4,
   "metadata": {},
   "outputs": [],
   "source": [
    "def get_stats(cdf, image_df):\n",
    "    n_patients = cdf.empi_anon.nunique()\n",
    "    n_studies = cdf.acc_anon.nunique()\n",
    "    n_images = image_df.anon_dicom_path.nunique()\n",
    "    return n_patients, n_studies, n_images"
   ]
  },
  {
   "cell_type": "code",
   "execution_count": 5,
   "metadata": {},
   "outputs": [
    {
     "name": "stdout",
     "output_type": "stream",
     "text": [
      "480323 images from 23253 patients\n"
     ]
    }
   ],
   "source": [
    "n_patients, n_studies, n_images = get_stats(clinical_df, meta_df)\n",
    "print(f\"{n_images} images from {n_patients} patients\")"
   ]
  },
  {
   "cell_type": "code",
   "execution_count": 6,
   "metadata": {},
   "outputs": [
    {
     "data": {
      "text/html": [
       "<div>\n",
       "<style scoped>\n",
       "    .dataframe tbody tr th:only-of-type {\n",
       "        vertical-align: middle;\n",
       "    }\n",
       "\n",
       "    .dataframe tbody tr th {\n",
       "        vertical-align: top;\n",
       "    }\n",
       "\n",
       "    .dataframe thead th {\n",
       "        text-align: right;\n",
       "    }\n",
       "</style>\n",
       "<table border=\"1\" class=\"dataframe\">\n",
       "  <thead>\n",
       "    <tr style=\"text-align: right;\">\n",
       "      <th></th>\n",
       "      <th>Unnamed: 0</th>\n",
       "      <th>empi_anon</th>\n",
       "      <th>acc_anon</th>\n",
       "      <th>desc</th>\n",
       "      <th>numfind</th>\n",
       "      <th>side</th>\n",
       "      <th>asses</th>\n",
       "      <th>tissueden</th>\n",
       "      <th>bside</th>\n",
       "      <th>GENDER_DESC</th>\n",
       "      <th>...</th>\n",
       "      <th>ETHNIC_GROUP_DESC</th>\n",
       "      <th>MARITAL_STATUS_DESC</th>\n",
       "      <th>age_at_study</th>\n",
       "      <th>study_date_anon</th>\n",
       "      <th>procdate_anon</th>\n",
       "      <th>cohort_num</th>\n",
       "      <th>path_severity</th>\n",
       "      <th>total_L_find</th>\n",
       "      <th>total_R_find</th>\n",
       "      <th>first_3_zip</th>\n",
       "    </tr>\n",
       "  </thead>\n",
       "  <tbody>\n",
       "    <tr>\n",
       "      <th>0</th>\n",
       "      <td>0</td>\n",
       "      <td>60696029</td>\n",
       "      <td>8099128854014801</td>\n",
       "      <td>MG Diagnostic Right</td>\n",
       "      <td>1</td>\n",
       "      <td>R</td>\n",
       "      <td>A</td>\n",
       "      <td>3.0</td>\n",
       "      <td>NaN</td>\n",
       "      <td>Female</td>\n",
       "      <td>...</td>\n",
       "      <td>Unreported, Unknown, Unavailable</td>\n",
       "      <td>Married</td>\n",
       "      <td>69.652354</td>\n",
       "      <td>2013-12-30</td>\n",
       "      <td>NaN</td>\n",
       "      <td>1</td>\n",
       "      <td>NaN</td>\n",
       "      <td>0.0</td>\n",
       "      <td>1.0</td>\n",
       "      <td>303.0</td>\n",
       "    </tr>\n",
       "    <tr>\n",
       "      <th>1</th>\n",
       "      <td>1</td>\n",
       "      <td>90986305</td>\n",
       "      <td>5156106114290009</td>\n",
       "      <td>MG Diagnostic Left</td>\n",
       "      <td>1</td>\n",
       "      <td>L</td>\n",
       "      <td>P</td>\n",
       "      <td>3.0</td>\n",
       "      <td>NaN</td>\n",
       "      <td>Female</td>\n",
       "      <td>...</td>\n",
       "      <td>Unreported, Unknown, Unavailable</td>\n",
       "      <td>Married</td>\n",
       "      <td>42.741466</td>\n",
       "      <td>2013-08-26</td>\n",
       "      <td>NaN</td>\n",
       "      <td>1</td>\n",
       "      <td>NaN</td>\n",
       "      <td>1.0</td>\n",
       "      <td>0.0</td>\n",
       "      <td>303.0</td>\n",
       "    </tr>\n",
       "    <tr>\n",
       "      <th>2</th>\n",
       "      <td>2</td>\n",
       "      <td>78097721</td>\n",
       "      <td>3065491565033830</td>\n",
       "      <td>MG Screening Bilateral w/CAD</td>\n",
       "      <td>1</td>\n",
       "      <td>NaN</td>\n",
       "      <td>N</td>\n",
       "      <td>3.0</td>\n",
       "      <td>NaN</td>\n",
       "      <td>Female</td>\n",
       "      <td>...</td>\n",
       "      <td>Non-Hispanic or Latino</td>\n",
       "      <td>Married</td>\n",
       "      <td>60.967713</td>\n",
       "      <td>2013-02-19</td>\n",
       "      <td>NaN</td>\n",
       "      <td>1</td>\n",
       "      <td>NaN</td>\n",
       "      <td>0.0</td>\n",
       "      <td>0.0</td>\n",
       "      <td>303.0</td>\n",
       "    </tr>\n",
       "    <tr>\n",
       "      <th>3</th>\n",
       "      <td>3</td>\n",
       "      <td>43734324</td>\n",
       "      <td>1878527667143380</td>\n",
       "      <td>MG Screening Bilateral w/CAD</td>\n",
       "      <td>1</td>\n",
       "      <td>R</td>\n",
       "      <td>A</td>\n",
       "      <td>3.0</td>\n",
       "      <td>R</td>\n",
       "      <td>Female</td>\n",
       "      <td>...</td>\n",
       "      <td>Non-Hispanic or Latino</td>\n",
       "      <td>Married</td>\n",
       "      <td>56.329699</td>\n",
       "      <td>2013-02-08</td>\n",
       "      <td>2013-03-08</td>\n",
       "      <td>1</td>\n",
       "      <td>2.0</td>\n",
       "      <td>0.0</td>\n",
       "      <td>1.0</td>\n",
       "      <td>303.0</td>\n",
       "    </tr>\n",
       "    <tr>\n",
       "      <th>4</th>\n",
       "      <td>4</td>\n",
       "      <td>28410573</td>\n",
       "      <td>8493926076199113</td>\n",
       "      <td>MG Screening Bilateral w/CAD</td>\n",
       "      <td>1</td>\n",
       "      <td>B</td>\n",
       "      <td>B</td>\n",
       "      <td>3.0</td>\n",
       "      <td>NaN</td>\n",
       "      <td>Female</td>\n",
       "      <td>...</td>\n",
       "      <td>Non-Hispanic or Latino</td>\n",
       "      <td>Married</td>\n",
       "      <td>50.544501</td>\n",
       "      <td>2013-02-18</td>\n",
       "      <td>NaN</td>\n",
       "      <td>1</td>\n",
       "      <td>NaN</td>\n",
       "      <td>1.0</td>\n",
       "      <td>1.0</td>\n",
       "      <td>300.0</td>\n",
       "    </tr>\n",
       "  </tbody>\n",
       "</table>\n",
       "<p>5 rows × 21 columns</p>\n",
       "</div>"
      ],
      "text/plain": [
       "   Unnamed: 0  empi_anon          acc_anon                          desc  \\\n",
       "0           0   60696029  8099128854014801           MG Diagnostic Right   \n",
       "1           1   90986305  5156106114290009            MG Diagnostic Left   \n",
       "2           2   78097721  3065491565033830  MG Screening Bilateral w/CAD   \n",
       "3           3   43734324  1878527667143380  MG Screening Bilateral w/CAD   \n",
       "4           4   28410573  8493926076199113  MG Screening Bilateral w/CAD   \n",
       "\n",
       "   numfind side asses  tissueden bside GENDER_DESC  ...  \\\n",
       "0        1    R     A        3.0   NaN      Female  ...   \n",
       "1        1    L     P        3.0   NaN      Female  ...   \n",
       "2        1  NaN     N        3.0   NaN      Female  ...   \n",
       "3        1    R     A        3.0     R      Female  ...   \n",
       "4        1    B     B        3.0   NaN      Female  ...   \n",
       "\n",
       "                  ETHNIC_GROUP_DESC MARITAL_STATUS_DESC age_at_study  \\\n",
       "0  Unreported, Unknown, Unavailable             Married    69.652354   \n",
       "1  Unreported, Unknown, Unavailable             Married    42.741466   \n",
       "2            Non-Hispanic or Latino             Married    60.967713   \n",
       "3            Non-Hispanic or Latino             Married    56.329699   \n",
       "4            Non-Hispanic or Latino             Married    50.544501   \n",
       "\n",
       "   study_date_anon procdate_anon cohort_num  path_severity  total_L_find  \\\n",
       "0       2013-12-30           NaN          1            NaN           0.0   \n",
       "1       2013-08-26           NaN          1            NaN           1.0   \n",
       "2       2013-02-19           NaN          1            NaN           0.0   \n",
       "3       2013-02-08    2013-03-08          1            2.0           0.0   \n",
       "4       2013-02-18           NaN          1            NaN           1.0   \n",
       "\n",
       "   total_R_find  first_3_zip  \n",
       "0           1.0        303.0  \n",
       "1           0.0        303.0  \n",
       "2           0.0        303.0  \n",
       "3           1.0        303.0  \n",
       "4           1.0        300.0  \n",
       "\n",
       "[5 rows x 21 columns]"
      ]
     },
     "execution_count": 6,
     "metadata": {},
     "output_type": "execute_result"
    }
   ],
   "source": [
    "clinical_df.head()"
   ]
  },
  {
   "cell_type": "code",
   "execution_count": null,
   "metadata": {},
   "outputs": [
    {
     "data": {
      "text/plain": [
       "desc\n",
       "MG Screen Bilat w/Tomo/CAD Stnd Protocol    40674\n",
       "MG Screening Bilateral                       9347\n",
       "MG Diagnostic Bilateral w/ CAD               7581\n",
       "MG Screening Bilateral w/CAD                 6414\n",
       "MG Diagnostic Mammo Bilateral                3162\n",
       "MG Diagnostic Left w/CAD                     3019\n",
       "MG Diagnostic Right w/CAD                    2991\n",
       "MG Diagnostic Left                           1853\n",
       "MG Diagnostic Right                          1735\n",
       "MG Diagnostic Bilateral w/Tomo/CAD           1333\n",
       "MG Screening Left w/Tomo/CAD                  815\n",
       "MG Screening Right w/Tomo/CAD                 738\n",
       "MG Diagnostic  Left w/Tomo/CAD                462\n",
       "MG Diagnostic  Right w/Tomo/CAD               436\n",
       "MG Screening Right w/CAD                      318\n",
       "MG Screening Left w/CAD                       255\n",
       "MG Diagnostic Bilateral w/Tomosynthesis       246\n",
       "MG Screening Bilat w/Tomosynthesis            123\n",
       "MG Screening Left                             110\n",
       "MG Screening Right                             94\n",
       "MG Diagnostic  Right w/Tomosynthesis           31\n",
       "MG Diagnostic  Left w/Tomosynthesis            30\n",
       "MG Diagnostic Bilateral CESM                    9\n",
       "Name: count, dtype: int64"
      ]
     },
     "execution_count": 7,
     "metadata": {},
     "output_type": "execute_result"
    }
   ],
   "source": [
    "clinical_df.desc.value_counts()"
   ]
  },
  {
   "cell_type": "code",
   "execution_count": 8,
   "metadata": {},
   "outputs": [
    {
     "name": "stdout",
     "output_type": "stream",
     "text": [
      "<class 'pandas.core.frame.DataFrame'>\n",
      "RangeIndex: 81776 entries, 0 to 81775\n",
      "Data columns (total 21 columns):\n",
      " #   Column               Non-Null Count  Dtype  \n",
      "---  ------               --------------  -----  \n",
      " 0   Unnamed: 0           81776 non-null  int64  \n",
      " 1   empi_anon            81776 non-null  int64  \n",
      " 2   acc_anon             81776 non-null  int64  \n",
      " 3   desc                 81776 non-null  object \n",
      " 4   numfind              81776 non-null  int64  \n",
      " 5   side                 41626 non-null  object \n",
      " 6   asses                81776 non-null  object \n",
      " 7   tissueden            81200 non-null  float64\n",
      " 8   bside                4799 non-null   object \n",
      " 9   GENDER_DESC          81553 non-null  object \n",
      " 10  RACE_DESC            81553 non-null  object \n",
      " 11  ETHNIC_GROUP_DESC    81553 non-null  object \n",
      " 12  MARITAL_STATUS_DESC  81553 non-null  object \n",
      " 13  age_at_study         81553 non-null  float64\n",
      " 14  study_date_anon      81776 non-null  object \n",
      " 15  procdate_anon        4803 non-null   object \n",
      " 16  cohort_num           81776 non-null  int64  \n",
      " 17  path_severity        4788 non-null   float64\n",
      " 18  total_L_find         81776 non-null  float64\n",
      " 19  total_R_find         81776 non-null  float64\n",
      " 20  first_3_zip          81546 non-null  object \n",
      "dtypes: float64(5), int64(5), object(11)\n",
      "memory usage: 13.1+ MB\n"
     ]
    }
   ],
   "source": [
    "clinical_df.info()"
   ]
  },
  {
   "cell_type": "code",
   "execution_count": 9,
   "metadata": {},
   "outputs": [
    {
     "name": "stdout",
     "output_type": "stream",
     "text": [
      "<class 'pandas.core.frame.DataFrame'>\n",
      "RangeIndex: 480323 entries, 0 to 480322\n",
      "Data columns (total 29 columns):\n",
      " #   Column                        Non-Null Count   Dtype  \n",
      "---  ------                        --------------   -----  \n",
      " 0   Unnamed: 0                    480323 non-null  int64  \n",
      " 1   empi_anon                     480323 non-null  int64  \n",
      " 2   acc_anon                      480323 non-null  int64  \n",
      " 3   cohort_num                    480323 non-null  int64  \n",
      " 4   study_date_anon               480323 non-null  object \n",
      " 5   StudyDescription              480323 non-null  object \n",
      " 6   SeriesDescription             480054 non-null  object \n",
      " 7   FinalImageType                480323 non-null  object \n",
      " 8   ImageLateralityFinal          480323 non-null  object \n",
      " 9   ViewPosition                  472059 non-null  object \n",
      " 10  spot_mag                      34419 non-null   float64\n",
      " 11  anon_dicom_path               480323 non-null  object \n",
      " 12  num_roi                       480323 non-null  int64  \n",
      " 13  ROI_coords                    480323 non-null  object \n",
      " 14  SRC_DST                       480323 non-null  object \n",
      " 15  match_level                   480323 non-null  object \n",
      " 16  Manufacturer                  480323 non-null  object \n",
      " 17  ManufacturerModelName         480323 non-null  object \n",
      " 18  PatientSex                    480323 non-null  object \n",
      " 19  ProtocolName                  455916 non-null  object \n",
      " 20  SeriesNumber                  480323 non-null  int64  \n",
      " 21  SeriesTime                    480320 non-null  float64\n",
      " 22  StudyID                       478508 non-null  object \n",
      " 23  WindowCenter                  480231 non-null  object \n",
      " 24  WindowWidth                   480231 non-null  object \n",
      " 25  has_pix_array                 480323 non-null  bool   \n",
      " 26  category                      480323 non-null  object \n",
      " 27  VOILUTFunction                15213 non-null   object \n",
      " 28  WindowCenterWidthExplanation  15213 non-null   object \n",
      "dtypes: bool(1), float64(2), int64(6), object(20)\n",
      "memory usage: 103.1+ MB\n"
     ]
    }
   ],
   "source": [
    "meta_df.info()"
   ]
  },
  {
   "cell_type": "code",
   "execution_count": 10,
   "metadata": {},
   "outputs": [
    {
     "data": {
      "text/plain": [
       "(ImageLateralityFinal\n",
       " R    240579\n",
       " L    239744\n",
       " Name: count, dtype: int64,\n",
       " Manufacturer\n",
       " HOLOGIC, Inc.               441213\n",
       " GE MEDICAL SYSTEMS           30344\n",
       " FUJIFILM Corporation          8239\n",
       " GE HEALTHCARE                  524\n",
       " Lorad, A Hologic Company         3\n",
       " Name: count, dtype: int64,\n",
       " FinalImageType\n",
       " 2D       364564\n",
       " cview    115759\n",
       " Name: count, dtype: int64,\n",
       " ViewPosition\n",
       " MLO         228562\n",
       " CC          213629\n",
       " XCCL         12982\n",
       " ML           11681\n",
       " LM            2838\n",
       " CV             642\n",
       " XCCM           353\n",
       " MLOID          328\n",
       " AT             292\n",
       " CCID           286\n",
       " RL             204\n",
       " RM             201\n",
       " FB              15\n",
       " TAN             15\n",
       " MLID            12\n",
       " SIO              9\n",
       " LMO              6\n",
       " SPECIMEN         2\n",
       " ISO              1\n",
       " LMID             1\n",
       " Name: count, dtype: int64)"
      ]
     },
     "execution_count": 10,
     "metadata": {},
     "output_type": "execute_result"
    }
   ],
   "source": [
    "meta_df.ImageLateralityFinal.value_counts(), meta_df.Manufacturer.value_counts(), meta_df.FinalImageType.value_counts(), meta_df.ViewPosition.value_counts()"
   ]
  },
  {
   "cell_type": "code",
   "execution_count": 11,
   "metadata": {},
   "outputs": [],
   "source": [
    "# categorize racial groups\n",
    "clinical_df = clinical_df.replace(\"African American  or Black\", \"Black\")\n",
    "clinical_df = clinical_df.replace(\"Caucasian or White\", \"White\")\n",
    "clinical_df = clinical_df.replace(\"Native Hawaiian or Other Pacific Islander\", \"Other/Unknown\")\n",
    "clinical_df = clinical_df.replace(\"Unknown, Unavailable or Unreported\", \"Other/Unknown\")\n",
    "clinical_df = clinical_df.replace(\"Multiple\", \"Other/Unknown\")\n",
    "clinical_df = clinical_df.replace(\"American Indian or Alaskan Native\", \"Other/Unknown\")\n",
    "clinical_df = clinical_df.replace(\"Not Recorded\", \"Other/Unknown\")\n",
    "clinical_df = clinical_df.replace(\"Patient Declines\", \"Other/Unknown\")"
   ]
  },
  {
   "cell_type": "markdown",
   "metadata": {},
   "source": [
    "## Applying Inclusion Criteria  "
   ]
  },
  {
   "cell_type": "markdown",
   "metadata": {},
   "source": [
    "**Inclusion Criteria:**\n",
    "- ony left breast images\n",
    "- first image of first study of each patient\n",
    "- only MLO or CC view\n",
    "- only female patients\n",
    "- only studies with BIRADS Density A-D"
   ]
  },
  {
   "cell_type": "code",
   "execution_count": 12,
   "metadata": {},
   "outputs": [],
   "source": [
    "# fill in missing clinical_df.side with info from clinical_df.desc\n",
    "empty_side_mask = clinical_df.side.isnull()\n",
    "contains_bilat_mask = clinical_df['desc'].str.contains('bilat', case=False, na=False)\n",
    "to_fill = empty_side_mask & contains_bilat_mask\n",
    "clinical_df.loc[to_fill, \"side\"] = \"B\""
   ]
  },
  {
   "cell_type": "code",
   "execution_count": 13,
   "metadata": {},
   "outputs": [
    {
     "name": "stdout",
     "output_type": "stream",
     "text": [
      "480323 images from 23253 patients\n"
     ]
    }
   ],
   "source": [
    "n_patients, n_studies, n_images = get_stats(clinical_df, meta_df)\n",
    "print(f\"{n_images} images from {n_patients} patients\")"
   ]
  },
  {
   "cell_type": "code",
   "execution_count": 14,
   "metadata": {},
   "outputs": [
    {
     "name": "stdout",
     "output_type": "stream",
     "text": [
      "480323 images from 23253 patients, 72770 studies\n"
     ]
    }
   ],
   "source": [
    "#meta_df = meta_df.loc[meta_df.ViewPosition.isin([\"MLO\", \"CC\"])] # only MLO or CC view\n",
    "#meta_df = meta_df.loc[meta_df.PatientSex==\"F\"] # only female patients\n",
    "clinical_df = clinical_df.loc[clinical_df.acc_anon.isin(meta_df.acc_anon)] # only patients with images\n",
    "n_patients, n_studies, n_images = get_stats(clinical_df, meta_df)\n",
    "print(f\"{n_images} images from {n_patients} patients, {n_studies} studies\")"
   ]
  },
  {
   "cell_type": "code",
   "execution_count": 15,
   "metadata": {},
   "outputs": [],
   "source": [
    "data_df = pd.merge(clinical_df, meta_df, how='left', on=['acc_anon', 'empi_anon'])\n",
    "data_df.drop_duplicates(subset=\"anon_dicom_path\", inplace=True) # drop duplicates\n",
    "data_df.rename(columns={\"age_at_study\": \"age\"}, inplace=True)\n",
    "data_df.rename(columns={\"PatientSex\": \"Sex\"}, inplace=True)\n",
    "# exclude patients with missing race info\n",
    "data_df = data_df[~data_df.RACE_DESC.isna()]\n",
    "data_df = data_df.loc[data_df.ViewPosition.isin([\"MLO\", \"CC\"])] # only MLO or CC view"
   ]
  },
  {
   "cell_type": "code",
   "execution_count": 16,
   "metadata": {},
   "outputs": [
    {
     "name": "stderr",
     "output_type": "stream",
     "text": [
      "/tmp/ipykernel_423120/1522402770.py:7: FutureWarning: Setting an item of incompatible dtype is deprecated and will raise in a future error of pandas. Value '[3.0 3.0 3.0 ... 2.0 2.0 2.0]' has dtype incompatible with float64, please explicitly cast to a compatible dtype first.\n",
      "  data_df.loc[:, \"tissueden\"] = data_df.loc[:, \"tissueden\"].replace(1.0, \"BIRADS A\")\n"
     ]
    }
   ],
   "source": [
    "# BI-RADS Density LABELS\n",
    "data_df[\"BIRADS_DENSITY\"] = data_df[\"tissueden\"]\n",
    "data_df.loc[:, \"BIRADS_DENSITY\"] = data_df.loc[:, \"BIRADS_DENSITY\"].replace(1.0, 0)\n",
    "data_df.loc[:, \"BIRADS_DENSITY\"] = data_df.loc[:, \"BIRADS_DENSITY\"].replace(2.0, 1)\n",
    "data_df.loc[:, \"BIRADS_DENSITY\"] = data_df.loc[:, \"BIRADS_DENSITY\"].replace(3.0, 2)\n",
    "data_df.loc[:, \"BIRADS_DENSITY\"] = data_df.loc[:, \"BIRADS_DENSITY\"].replace(4.0, 3)\n",
    "data_df.loc[:, \"tissueden\"] = data_df.loc[:, \"tissueden\"].replace(1.0, \"BIRADS A\")\n",
    "data_df.loc[:, \"tissueden\"] = data_df.loc[:, \"tissueden\"].replace(2.0, \"BIRADS B\")\n",
    "data_df.loc[:, \"tissueden\"] = data_df.loc[:, \"tissueden\"].replace(3.0, \"BIRADS C\")\n",
    "data_df.loc[:, \"tissueden\"] = data_df.loc[:, \"tissueden\"].replace(4.0, \"BIRADS D\")"
   ]
  },
  {
   "cell_type": "code",
   "execution_count": 17,
   "metadata": {},
   "outputs": [
    {
     "name": "stdout",
     "output_type": "stream",
     "text": [
      "BIRADS_DENSITY\n",
      "1.0    183316\n",
      "2.0    181372\n",
      "0.0     48560\n",
      "3.0     24593\n",
      "5.0       840\n",
      "Name: count, dtype: int64\n"
     ]
    }
   ],
   "source": [
    "print(data_df[\"BIRADS_DENSITY\"].value_counts())\n",
    "nan_vals = data_df.BIRADS_DENSITY.isna()\n",
    "data_df = data_df.loc[~nan_vals]"
   ]
  },
  {
   "cell_type": "code",
   "execution_count": 18,
   "metadata": {},
   "outputs": [
    {
     "data": {
      "text/plain": [
       "ViewPosition\n",
       "MLO    226822\n",
       "CC     211859\n",
       "Name: count, dtype: int64"
      ]
     },
     "execution_count": 18,
     "metadata": {},
     "output_type": "execute_result"
    }
   ],
   "source": [
    "data_df[\"ViewPosition\"].value_counts()"
   ]
  },
  {
   "cell_type": "code",
   "execution_count": 19,
   "metadata": {},
   "outputs": [
    {
     "name": "stdout",
     "output_type": "stream",
     "text": [
      "438681 images from 22311 patients. Data from 70222 studies\n"
     ]
    }
   ],
   "source": [
    "data_df = data_df.sample(frac=1).reset_index(drop=True)\n",
    "data_df_all = data_df.copy()\n",
    "print(f\"{data_df_all.anon_dicom_path.nunique()} images from {data_df_all.empi_anon.nunique()} patients. Data from {data_df_all.acc_anon.nunique()} studies\")"
   ]
  },
  {
   "cell_type": "markdown",
   "metadata": {},
   "source": [
    "apply optional exclusion criteria (only one image (left breast) per patient)"
   ]
  },
  {
   "cell_type": "code",
   "execution_count": 20,
   "metadata": {},
   "outputs": [
    {
     "name": "stdout",
     "output_type": "stream",
     "text": [
      "191392 left breast images from 19600 patients. Data from 56135 studies\n"
     ]
    }
   ],
   "source": [
    "# only left breasts\n",
    "data_df = data_df.loc[(data_df.side==\"L\") | (data_df.side==\"B\")] # only findings related to the left or both breasts\n",
    "data_df = data_df.loc[data_df.ImageLateralityFinal==\"L\"]\n",
    "print(f\"{data_df.anon_dicom_path.nunique()} left breast images from {data_df.empi_anon.nunique()} patients. Data from {data_df.acc_anon.nunique()} studies\")"
   ]
  },
  {
   "cell_type": "code",
   "execution_count": 21,
   "metadata": {},
   "outputs": [
    {
     "name": "stdout",
     "output_type": "stream",
     "text": [
      "19600 left breast images from female 19600 patients. Data from 19600 studies\n"
     ]
    }
   ],
   "source": [
    "# drop all images but the first image of the first study per patient\n",
    "data_df = data_df.sort_values(by='acc_anon')\n",
    "data_df = data_df.drop_duplicates(subset=\"empi_anon\")\n",
    "print(f\"{data_df.anon_dicom_path.nunique()} left breast images from female {data_df.empi_anon.nunique()} patients. Data from {data_df.acc_anon.nunique()} studies\")"
   ]
  },
  {
   "cell_type": "code",
   "execution_count": 22,
   "metadata": {},
   "outputs": [
    {
     "data": {
      "text/plain": [
       "(side\n",
       " B    14658\n",
       " L     4942\n",
       " Name: count, dtype: int64,\n",
       " ViewPosition\n",
       " MLO    10043\n",
       " CC      9557\n",
       " Name: count, dtype: int64)"
      ]
     },
     "execution_count": 22,
     "metadata": {},
     "output_type": "execute_result"
    }
   ],
   "source": [
    "data_df.side.value_counts(), data_df.ViewPosition.value_counts()"
   ]
  },
  {
   "cell_type": "code",
   "execution_count": 23,
   "metadata": {},
   "outputs": [
    {
     "data": {
      "text/html": [
       "<div>\n",
       "<style scoped>\n",
       "    .dataframe tbody tr th:only-of-type {\n",
       "        vertical-align: middle;\n",
       "    }\n",
       "\n",
       "    .dataframe tbody tr th {\n",
       "        vertical-align: top;\n",
       "    }\n",
       "\n",
       "    .dataframe thead th {\n",
       "        text-align: right;\n",
       "    }\n",
       "</style>\n",
       "<table border=\"1\" class=\"dataframe\">\n",
       "  <thead>\n",
       "    <tr style=\"text-align: right;\">\n",
       "      <th></th>\n",
       "      <th>Unnamed: 0_x</th>\n",
       "      <th>empi_anon</th>\n",
       "      <th>acc_anon</th>\n",
       "      <th>desc</th>\n",
       "      <th>numfind</th>\n",
       "      <th>side</th>\n",
       "      <th>asses</th>\n",
       "      <th>tissueden</th>\n",
       "      <th>bside</th>\n",
       "      <th>GENDER_DESC</th>\n",
       "      <th>...</th>\n",
       "      <th>SeriesNumber</th>\n",
       "      <th>SeriesTime</th>\n",
       "      <th>StudyID</th>\n",
       "      <th>WindowCenter</th>\n",
       "      <th>WindowWidth</th>\n",
       "      <th>has_pix_array</th>\n",
       "      <th>category</th>\n",
       "      <th>VOILUTFunction</th>\n",
       "      <th>WindowCenterWidthExplanation</th>\n",
       "      <th>BIRADS_DENSITY</th>\n",
       "    </tr>\n",
       "  </thead>\n",
       "  <tbody>\n",
       "    <tr>\n",
       "      <th>402102</th>\n",
       "      <td>60012</td>\n",
       "      <td>11371531</td>\n",
       "      <td>1000443661283482</td>\n",
       "      <td>MG Screen Bilat w/Tomo/CAD Stnd Protocol</td>\n",
       "      <td>1</td>\n",
       "      <td>L</td>\n",
       "      <td>A</td>\n",
       "      <td>BIRADS C</td>\n",
       "      <td>NaN</td>\n",
       "      <td>Female</td>\n",
       "      <td>...</td>\n",
       "      <td>71300000.0</td>\n",
       "      <td>95156.0</td>\n",
       "      <td>MG Screening Dig</td>\n",
       "      <td>540.0</td>\n",
       "      <td>580.0</td>\n",
       "      <td>False</td>\n",
       "      <td>no image</td>\n",
       "      <td>NaN</td>\n",
       "      <td>NaN</td>\n",
       "      <td>2.0</td>\n",
       "    </tr>\n",
       "    <tr>\n",
       "      <th>314843</th>\n",
       "      <td>21160</td>\n",
       "      <td>65317699</td>\n",
       "      <td>1000449157413064</td>\n",
       "      <td>MG Screening Bilateral</td>\n",
       "      <td>1</td>\n",
       "      <td>B</td>\n",
       "      <td>N</td>\n",
       "      <td>BIRADS B</td>\n",
       "      <td>NaN</td>\n",
       "      <td>Female</td>\n",
       "      <td>...</td>\n",
       "      <td>5.0</td>\n",
       "      <td>145858.0</td>\n",
       "      <td>00006MG160035804</td>\n",
       "      <td>2047.0</td>\n",
       "      <td>4096.0</td>\n",
       "      <td>False</td>\n",
       "      <td>no image</td>\n",
       "      <td>NaN</td>\n",
       "      <td>NaN</td>\n",
       "      <td>1.0</td>\n",
       "    </tr>\n",
       "    <tr>\n",
       "      <th>32388</th>\n",
       "      <td>65878</td>\n",
       "      <td>81619488</td>\n",
       "      <td>1000461782014031</td>\n",
       "      <td>MG Screen Bilat w/Tomo/CAD Stnd Protocol</td>\n",
       "      <td>1</td>\n",
       "      <td>L</td>\n",
       "      <td>B</td>\n",
       "      <td>BIRADS C</td>\n",
       "      <td>NaN</td>\n",
       "      <td>Female</td>\n",
       "      <td>...</td>\n",
       "      <td>71300000.0</td>\n",
       "      <td>144613.0</td>\n",
       "      <td>MG Screening Dig</td>\n",
       "      <td>2047.0</td>\n",
       "      <td>4096.0</td>\n",
       "      <td>False</td>\n",
       "      <td>no image</td>\n",
       "      <td>NaN</td>\n",
       "      <td>NaN</td>\n",
       "      <td>2.0</td>\n",
       "    </tr>\n",
       "    <tr>\n",
       "      <th>81251</th>\n",
       "      <td>10667</td>\n",
       "      <td>23567423</td>\n",
       "      <td>1000539429266213</td>\n",
       "      <td>MG Diagnostic Left w/CAD</td>\n",
       "      <td>1</td>\n",
       "      <td>L</td>\n",
       "      <td>P</td>\n",
       "      <td>BIRADS D</td>\n",
       "      <td>NaN</td>\n",
       "      <td>Female</td>\n",
       "      <td>...</td>\n",
       "      <td>71100000.0</td>\n",
       "      <td>82122.0</td>\n",
       "      <td>MG Diagnostic Ma</td>\n",
       "      <td>2047.0</td>\n",
       "      <td>4096.0</td>\n",
       "      <td>False</td>\n",
       "      <td>no image</td>\n",
       "      <td>NaN</td>\n",
       "      <td>NaN</td>\n",
       "      <td>3.0</td>\n",
       "    </tr>\n",
       "    <tr>\n",
       "      <th>122153</th>\n",
       "      <td>28330</td>\n",
       "      <td>79046796</td>\n",
       "      <td>1000628717095292</td>\n",
       "      <td>MG Screen Bilat w/Tomo/CAD Stnd Protocol</td>\n",
       "      <td>1</td>\n",
       "      <td>B</td>\n",
       "      <td>N</td>\n",
       "      <td>BIRADS B</td>\n",
       "      <td>NaN</td>\n",
       "      <td>Female</td>\n",
       "      <td>...</td>\n",
       "      <td>71300000.0</td>\n",
       "      <td>100528.0</td>\n",
       "      <td>MG Screen Bilat</td>\n",
       "      <td>540.0</td>\n",
       "      <td>580.0</td>\n",
       "      <td>False</td>\n",
       "      <td>no image</td>\n",
       "      <td>NaN</td>\n",
       "      <td>NaN</td>\n",
       "      <td>1.0</td>\n",
       "    </tr>\n",
       "    <tr>\n",
       "      <th>...</th>\n",
       "      <td>...</td>\n",
       "      <td>...</td>\n",
       "      <td>...</td>\n",
       "      <td>...</td>\n",
       "      <td>...</td>\n",
       "      <td>...</td>\n",
       "      <td>...</td>\n",
       "      <td>...</td>\n",
       "      <td>...</td>\n",
       "      <td>...</td>\n",
       "      <td>...</td>\n",
       "      <td>...</td>\n",
       "      <td>...</td>\n",
       "      <td>...</td>\n",
       "      <td>...</td>\n",
       "      <td>...</td>\n",
       "      <td>...</td>\n",
       "      <td>...</td>\n",
       "      <td>...</td>\n",
       "      <td>...</td>\n",
       "      <td>...</td>\n",
       "    </tr>\n",
       "    <tr>\n",
       "      <th>14667</th>\n",
       "      <td>65879</td>\n",
       "      <td>65367456</td>\n",
       "      <td>9983051246439877</td>\n",
       "      <td>MG Screen Bilat w/Tomo/CAD Stnd Protocol</td>\n",
       "      <td>1</td>\n",
       "      <td>B</td>\n",
       "      <td>N</td>\n",
       "      <td>BIRADS B</td>\n",
       "      <td>NaN</td>\n",
       "      <td>Female</td>\n",
       "      <td>...</td>\n",
       "      <td>71300000.0</td>\n",
       "      <td>155634.0</td>\n",
       "      <td>MG Screening Dig</td>\n",
       "      <td>2047.0</td>\n",
       "      <td>4096.0</td>\n",
       "      <td>False</td>\n",
       "      <td>no image</td>\n",
       "      <td>NaN</td>\n",
       "      <td>NaN</td>\n",
       "      <td>1.0</td>\n",
       "    </tr>\n",
       "    <tr>\n",
       "      <th>38935</th>\n",
       "      <td>12243</td>\n",
       "      <td>92696277</td>\n",
       "      <td>9983796813744318</td>\n",
       "      <td>MG Screening Bilateral</td>\n",
       "      <td>1</td>\n",
       "      <td>B</td>\n",
       "      <td>N</td>\n",
       "      <td>BIRADS B</td>\n",
       "      <td>NaN</td>\n",
       "      <td>Female</td>\n",
       "      <td>...</td>\n",
       "      <td>28606.0</td>\n",
       "      <td>134815.0</td>\n",
       "      <td>MG Screening Dig</td>\n",
       "      <td>(\"2731.0\", \"2809.0\", \"2635.0\")</td>\n",
       "      <td>(\"900.0\", \"750.0\", \"1050.0\")</td>\n",
       "      <td>False</td>\n",
       "      <td>no image</td>\n",
       "      <td>SIGMOID</td>\n",
       "      <td>('NORMAL', 'HARDER', 'SOFTER')</td>\n",
       "      <td>1.0</td>\n",
       "    </tr>\n",
       "    <tr>\n",
       "      <th>245985</th>\n",
       "      <td>74367</td>\n",
       "      <td>67072999</td>\n",
       "      <td>9985020392597629</td>\n",
       "      <td>MG Screen Bilat w/Tomo/CAD Stnd Protocol</td>\n",
       "      <td>1</td>\n",
       "      <td>B</td>\n",
       "      <td>N</td>\n",
       "      <td>BIRADS B</td>\n",
       "      <td>NaN</td>\n",
       "      <td>Female</td>\n",
       "      <td>...</td>\n",
       "      <td>71300000.0</td>\n",
       "      <td>134508.0</td>\n",
       "      <td>H1003134200019</td>\n",
       "      <td>2047.0</td>\n",
       "      <td>4096.0</td>\n",
       "      <td>False</td>\n",
       "      <td>no image</td>\n",
       "      <td>NaN</td>\n",
       "      <td>NaN</td>\n",
       "      <td>1.0</td>\n",
       "    </tr>\n",
       "    <tr>\n",
       "      <th>206127</th>\n",
       "      <td>57522</td>\n",
       "      <td>62070924</td>\n",
       "      <td>9996191246486565</td>\n",
       "      <td>MG Screening Bilateral</td>\n",
       "      <td>1</td>\n",
       "      <td>B</td>\n",
       "      <td>N</td>\n",
       "      <td>BIRADS C</td>\n",
       "      <td>NaN</td>\n",
       "      <td>Female</td>\n",
       "      <td>...</td>\n",
       "      <td>4.0</td>\n",
       "      <td>121109.0</td>\n",
       "      <td>00006MG160057622</td>\n",
       "      <td>2047.0</td>\n",
       "      <td>4096.0</td>\n",
       "      <td>False</td>\n",
       "      <td>no image</td>\n",
       "      <td>NaN</td>\n",
       "      <td>NaN</td>\n",
       "      <td>2.0</td>\n",
       "    </tr>\n",
       "    <tr>\n",
       "      <th>378084</th>\n",
       "      <td>37761</td>\n",
       "      <td>32010638</td>\n",
       "      <td>9997529726125116</td>\n",
       "      <td>MG Diagnostic Left</td>\n",
       "      <td>1</td>\n",
       "      <td>L</td>\n",
       "      <td>S</td>\n",
       "      <td>BIRADS B</td>\n",
       "      <td>L</td>\n",
       "      <td>Female</td>\n",
       "      <td>...</td>\n",
       "      <td>71300000.0</td>\n",
       "      <td>141717.0</td>\n",
       "      <td>MG Diagnostic Le</td>\n",
       "      <td>540.0</td>\n",
       "      <td>580.0</td>\n",
       "      <td>False</td>\n",
       "      <td>no image</td>\n",
       "      <td>NaN</td>\n",
       "      <td>NaN</td>\n",
       "      <td>1.0</td>\n",
       "    </tr>\n",
       "  </tbody>\n",
       "</table>\n",
       "<p>19600 rows × 49 columns</p>\n",
       "</div>"
      ],
      "text/plain": [
       "        Unnamed: 0_x  empi_anon          acc_anon  \\\n",
       "402102         60012   11371531  1000443661283482   \n",
       "314843         21160   65317699  1000449157413064   \n",
       "32388          65878   81619488  1000461782014031   \n",
       "81251          10667   23567423  1000539429266213   \n",
       "122153         28330   79046796  1000628717095292   \n",
       "...              ...        ...               ...   \n",
       "14667          65879   65367456  9983051246439877   \n",
       "38935          12243   92696277  9983796813744318   \n",
       "245985         74367   67072999  9985020392597629   \n",
       "206127         57522   62070924  9996191246486565   \n",
       "378084         37761   32010638  9997529726125116   \n",
       "\n",
       "                                            desc  numfind side asses  \\\n",
       "402102  MG Screen Bilat w/Tomo/CAD Stnd Protocol        1    L     A   \n",
       "314843                    MG Screening Bilateral        1    B     N   \n",
       "32388   MG Screen Bilat w/Tomo/CAD Stnd Protocol        1    L     B   \n",
       "81251                   MG Diagnostic Left w/CAD        1    L     P   \n",
       "122153  MG Screen Bilat w/Tomo/CAD Stnd Protocol        1    B     N   \n",
       "...                                          ...      ...  ...   ...   \n",
       "14667   MG Screen Bilat w/Tomo/CAD Stnd Protocol        1    B     N   \n",
       "38935                     MG Screening Bilateral        1    B     N   \n",
       "245985  MG Screen Bilat w/Tomo/CAD Stnd Protocol        1    B     N   \n",
       "206127                    MG Screening Bilateral        1    B     N   \n",
       "378084                        MG Diagnostic Left        1    L     S   \n",
       "\n",
       "       tissueden bside GENDER_DESC  ... SeriesNumber SeriesTime  \\\n",
       "402102  BIRADS C   NaN      Female  ...   71300000.0    95156.0   \n",
       "314843  BIRADS B   NaN      Female  ...          5.0   145858.0   \n",
       "32388   BIRADS C   NaN      Female  ...   71300000.0   144613.0   \n",
       "81251   BIRADS D   NaN      Female  ...   71100000.0    82122.0   \n",
       "122153  BIRADS B   NaN      Female  ...   71300000.0   100528.0   \n",
       "...          ...   ...         ...  ...          ...        ...   \n",
       "14667   BIRADS B   NaN      Female  ...   71300000.0   155634.0   \n",
       "38935   BIRADS B   NaN      Female  ...      28606.0   134815.0   \n",
       "245985  BIRADS B   NaN      Female  ...   71300000.0   134508.0   \n",
       "206127  BIRADS C   NaN      Female  ...          4.0   121109.0   \n",
       "378084  BIRADS B     L      Female  ...   71300000.0   141717.0   \n",
       "\n",
       "                 StudyID                    WindowCenter  \\\n",
       "402102  MG Screening Dig                           540.0   \n",
       "314843  00006MG160035804                          2047.0   \n",
       "32388   MG Screening Dig                          2047.0   \n",
       "81251   MG Diagnostic Ma                          2047.0   \n",
       "122153   MG Screen Bilat                           540.0   \n",
       "...                  ...                             ...   \n",
       "14667   MG Screening Dig                          2047.0   \n",
       "38935   MG Screening Dig  (\"2731.0\", \"2809.0\", \"2635.0\")   \n",
       "245985    H1003134200019                          2047.0   \n",
       "206127  00006MG160057622                          2047.0   \n",
       "378084  MG Diagnostic Le                           540.0   \n",
       "\n",
       "                         WindowWidth has_pix_array  category  VOILUTFunction  \\\n",
       "402102                         580.0         False  no image             NaN   \n",
       "314843                        4096.0         False  no image             NaN   \n",
       "32388                         4096.0         False  no image             NaN   \n",
       "81251                         4096.0         False  no image             NaN   \n",
       "122153                         580.0         False  no image             NaN   \n",
       "...                              ...           ...       ...             ...   \n",
       "14667                         4096.0         False  no image             NaN   \n",
       "38935   (\"900.0\", \"750.0\", \"1050.0\")         False  no image         SIGMOID   \n",
       "245985                        4096.0         False  no image             NaN   \n",
       "206127                        4096.0         False  no image             NaN   \n",
       "378084                         580.0         False  no image             NaN   \n",
       "\n",
       "          WindowCenterWidthExplanation  BIRADS_DENSITY  \n",
       "402102                             NaN             2.0  \n",
       "314843                             NaN             1.0  \n",
       "32388                              NaN             2.0  \n",
       "81251                              NaN             3.0  \n",
       "122153                             NaN             1.0  \n",
       "...                                ...             ...  \n",
       "14667                              NaN             1.0  \n",
       "38935   ('NORMAL', 'HARDER', 'SOFTER')             1.0  \n",
       "245985                             NaN             1.0  \n",
       "206127                             NaN             2.0  \n",
       "378084                             NaN             1.0  \n",
       "\n",
       "[19600 rows x 49 columns]"
      ]
     },
     "execution_count": 23,
     "metadata": {},
     "output_type": "execute_result"
    }
   ],
   "source": [
    "data_df"
   ]
  },
  {
   "cell_type": "code",
   "execution_count": 24,
   "metadata": {},
   "outputs": [
    {
     "data": {
      "text/plain": [
       "Sex\n",
       "F    436974\n",
       "M      1707\n",
       "Name: count, dtype: int64"
      ]
     },
     "execution_count": 24,
     "metadata": {},
     "output_type": "execute_result"
    }
   ],
   "source": [
    "data_df_all.Sex.value_counts()"
   ]
  },
  {
   "cell_type": "markdown",
   "metadata": {},
   "source": [
    "### Train-test split"
   ]
  },
  {
   "cell_type": "code",
   "execution_count": 25,
   "metadata": {},
   "outputs": [
    {
     "data": {
      "text/plain": [
       "(split\n",
       " train    19100\n",
       " test       500\n",
       " Name: count, dtype: int64,\n",
       " split\n",
       " train    428393\n",
       " test      10288\n",
       " Name: count, dtype: int64)"
      ]
     },
     "execution_count": 25,
     "metadata": {},
     "output_type": "execute_result"
    }
   ],
   "source": [
    "n_test_patients = 500\n",
    "test_patients = np.random.choice(data_df.empi_anon.unique(), n_test_patients, replace=False)\n",
    "data_df['split'] = \"train\"\n",
    "data_df.loc[data_df.empi_anon.isin(test_patients), 'split'] = \"test\"\n",
    "data_df_all['split'] = \"train\"\n",
    "data_df_all.loc[data_df_all.empi_anon.isin(test_patients), 'split'] = \"test\"\n",
    "data_df['split'].value_counts(normalize=False), data_df_all['split'].value_counts(normalize=False)"
   ]
  },
  {
   "cell_type": "code",
   "execution_count": 26,
   "metadata": {},
   "outputs": [
    {
     "data": {
      "text/plain": [
       "asses\n",
       "N    289421\n",
       "B     64714\n",
       "A     56350\n",
       "P     18894\n",
       "S      7307\n",
       "K      1140\n",
       "M       806\n",
       "X        49\n",
       "Name: count, dtype: int64"
      ]
     },
     "execution_count": 26,
     "metadata": {},
     "output_type": "execute_result"
    }
   ],
   "source": [
    "data_df_all.asses.value_counts()"
   ]
  },
  {
   "cell_type": "code",
   "execution_count": 4,
   "metadata": {},
   "outputs": [
    {
     "ename": "NameError",
     "evalue": "name 'data_df_all' is not defined",
     "output_type": "error",
     "traceback": [
      "\u001b[0;31m---------------------------------------------------------------------------\u001b[0m",
      "\u001b[0;31mNameError\u001b[0m                                 Traceback (most recent call last)",
      "Cell \u001b[0;32mIn[4], line 1\u001b[0m\n\u001b[0;32m----> 1\u001b[0m \u001b[43mdata_df_all\u001b[49m\u001b[38;5;241m.\u001b[39mRACE_DESC\u001b[38;5;241m.\u001b[39mvalue_counts(normalize\u001b[38;5;241m=\u001b[39m\u001b[38;5;28;01mFalse\u001b[39;00m)\n",
      "\u001b[0;31mNameError\u001b[0m: name 'data_df_all' is not defined"
     ]
    }
   ],
   "source": [
    "data_df_all.RACE_DESC.value_counts(normalize=False)"
   ]
  },
  {
   "cell_type": "code",
   "execution_count": 27,
   "metadata": {},
   "outputs": [],
   "source": [
    "#data_df.to_csv(\"/home/moritz/repositories/fair_leak/data/csv/embed.csv\")\n",
    "#data_df_all.to_csv(\"/home/moritz/repositories/fair_leak/data/csv/embed_all.csv\")"
   ]
  }
 ],
 "metadata": {
  "kernelspec": {
   "display_name": "fair_leak",
   "language": "python",
   "name": "python3"
  },
  "language_info": {
   "codemirror_mode": {
    "name": "ipython",
    "version": 3
   },
   "file_extension": ".py",
   "mimetype": "text/x-python",
   "name": "python",
   "nbconvert_exporter": "python",
   "pygments_lexer": "ipython3",
   "version": "3.9.18"
  }
 },
 "nbformat": 4,
 "nbformat_minor": 4
}
