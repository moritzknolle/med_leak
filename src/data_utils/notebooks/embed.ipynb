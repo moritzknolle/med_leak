{
 "cells": [
  {
   "cell_type": "code",
   "execution_count": 1,
   "metadata": {},
   "outputs": [],
   "source": [
    "%load_ext autoreload\n",
    "%autoreload 2"
   ]
  },
  {
   "cell_type": "code",
   "execution_count": 2,
   "metadata": {},
   "outputs": [],
   "source": [
    "import pandas as pd\n",
    "import matplotlib.pyplot as plt\n",
    "import seaborn as sns\n",
    "import numpy as np\n",
    "from pathlib import Path\n",
    "from pydicom import dcmread\n",
    "from skimage.io import imsave\n",
    "from skimage.transform import resize\n",
    "from tqdm import tqdm\n",
    "import ast, sys\n",
    "sys.path.append(\"/home/moritz/repositories/med_leak/\")\n",
    "np.random.seed(420)\n",
    "tqdm.pandas()"
   ]
  },
  {
   "cell_type": "code",
   "execution_count": 3,
   "metadata": {},
   "outputs": [],
   "source": [
    "def dataframe_stats(df):\n",
    "    n_patients = df.empi_anon.nunique()\n",
    "    n_exams = df.acc_anon.nunique()\n",
    "    print(f\"Patients: {n_patients}\")\n",
    "    print(f\"Exams: {n_exams}\")\n",
    "    if \"anon_dicom_path\" in df.columns:\n",
    "        n_images = df.anon_dicom_path.nunique()\n",
    "        print(f\"Images: {n_images}\")"
   ]
  },
  {
   "cell_type": "code",
   "execution_count": 4,
   "metadata": {},
   "outputs": [
    {
     "name": "stderr",
     "output_type": "stream",
     "text": [
      "/tmp/ipykernel_3766846/1328532102.py:3: DtypeWarning: Columns (20) have mixed types. Specify dtype option on import or set low_memory=False.\n",
      "  clinical_df = pd.read_csv(base_dir / \"EMBED_OpenData_clinical_reduced.csv\")\n",
      "/tmp/ipykernel_3766846/1328532102.py:4: DtypeWarning: Columns (27,28) have mixed types. Specify dtype option on import or set low_memory=False.\n",
      "  meta_df = pd.read_csv(base_dir / \"EMBED_OpenData_metadata_reduced.csv\")\n"
     ]
    },
    {
     "data": {
      "text/plain": [
       "(81776, 480323)"
      ]
     },
     "execution_count": 4,
     "metadata": {},
     "output_type": "execute_result"
    }
   ],
   "source": [
    "base_dir = Path(\"/home/moritz/data_massive/embed_small/tables\")\n",
    "data_dir = Path(\"/home/moritz/data_massive/embed_small/images\")\n",
    "clinical_df = pd.read_csv(base_dir / \"EMBED_OpenData_clinical_reduced.csv\")\n",
    "meta_df = pd.read_csv(base_dir / \"EMBED_OpenData_metadata_reduced.csv\")\n",
    "len(clinical_df), len(meta_df)"
   ]
  },
  {
   "cell_type": "code",
   "execution_count": 5,
   "metadata": {},
   "outputs": [
    {
     "name": "stdout",
     "output_type": "stream",
     "text": [
      "Patients: 23253\n",
      "Exams: 72770\n"
     ]
    }
   ],
   "source": [
    "dataframe_stats(clinical_df)"
   ]
  },
  {
   "cell_type": "code",
   "execution_count": 6,
   "metadata": {},
   "outputs": [],
   "source": [
    "# standardize racial groups\n",
    "clinical_df = clinical_df.replace(\"African American  or Black\", \"Black\")\n",
    "clinical_df = clinical_df.replace(\"Caucasian or White\", \"White\")\n",
    "clinical_df = clinical_df.replace(\"Native Hawaiian or Other Pacific Islander\", \"Other/Unknown\")\n",
    "clinical_df = clinical_df.replace(\"Unknown, Unavailable or Unreported\", \"Other/Unknown\")\n",
    "clinical_df = clinical_df.replace(\"Multiple\", \"Other/Unknown\")\n",
    "clinical_df = clinical_df.replace(\"American Indian or Alaskan Native\", \"Other/Unknown\")\n",
    "clinical_df = clinical_df.replace(\"Not Recorded\", \"Other/Unknown\")\n",
    "clinical_df = clinical_df.replace(\"Patient Declines\", \"Other/Unknown\")\n",
    "\n",
    "# helper column to idenftify screening exams\n",
    "clinical_df['screen_exam'] = clinical_df.desc.str.contains('screen', case=False)"
   ]
  },
  {
   "cell_type": "code",
   "execution_count": 7,
   "metadata": {},
   "outputs": [
    {
     "name": "stdout",
     "output_type": "stream",
     "text": [
      "Patients: 20460\n",
      "Exams: 55956\n"
     ]
    }
   ],
   "source": [
    "clinical_df = clinical_df[clinical_df['screen_exam'] == True]\n",
    "dataframe_stats(clinical_df)"
   ]
  },
  {
   "cell_type": "code",
   "execution_count": 8,
   "metadata": {},
   "outputs": [
    {
     "data": {
      "text/plain": [
       "(tissueden\n",
       " 2.0    24955\n",
       " 3.0    24724\n",
       " 1.0     6067\n",
       " 4.0     2977\n",
       " 5.0        6\n",
       " Name: count, dtype: int64,\n",
       " asses\n",
       " N    41779\n",
       " A    10845\n",
       " B     6224\n",
       " S       22\n",
       " K        9\n",
       " P        7\n",
       " M        1\n",
       " X        1\n",
       " Name: count, dtype: int64)"
      ]
     },
     "execution_count": 8,
     "metadata": {},
     "output_type": "execute_result"
    }
   ],
   "source": [
    "clinical_df.tissueden.value_counts(), clinical_df.asses.value_counts()"
   ]
  },
  {
   "cell_type": "code",
   "execution_count": 9,
   "metadata": {},
   "outputs": [
    {
     "name": "stderr",
     "output_type": "stream",
     "text": [
      "/tmp/ipykernel_3766846/1434390439.py:12: UserWarning: Boolean Series key will be reindexed to match DataFrame index.\n",
      "  data_df.drop(data_df[invalid_gender].index, inplace=True)\n"
     ]
    },
    {
     "name": "stdout",
     "output_type": "stream",
     "text": [
      "Patients: 19447\n",
      "Exams: 53963\n",
      "Images: 361153\n"
     ]
    }
   ],
   "source": [
    "data_df = pd.merge(clinical_df, meta_df, how='left', on=['acc_anon', 'empi_anon'])\n",
    "data_df.drop_duplicates(subset=\"anon_dicom_path\", inplace=True) # drop duplicates\n",
    "data_df.rename(columns={\"age_at_study\": \"age\"}, inplace=True)\n",
    "data_df.rename(columns={\"PatientSex\": \"Sex\"}, inplace=True)\n",
    "# exclude patients with missing race info\n",
    "data_df = data_df[~data_df.RACE_DESC.isna()]\n",
    "data_df = data_df.loc[data_df.ViewPosition.isin([\"MLO\", \"CC\"])] # only MLO or CC view\n",
    "# only female patients with valid BIRADS density\n",
    "invalid_densities = data_df.tissueden==5.0\n",
    "invalid_gender = data_df.GENDER_DESC == \"Male\"\n",
    "data_df.drop(data_df[invalid_densities].index, inplace=True)\n",
    "data_df.drop(data_df[invalid_gender].index, inplace=True)\n",
    "data_df = data_df.reset_index(drop=True)\n",
    "dataframe_stats(data_df)"
   ]
  },
  {
   "cell_type": "code",
   "execution_count": 10,
   "metadata": {},
   "outputs": [
    {
     "data": {
      "text/plain": [
       "(tissueden\n",
       " 2.0    153523\n",
       " 3.0    146108\n",
       " 1.0     41899\n",
       " 4.0     18629\n",
       " Name: count, dtype: int64,\n",
       " GENDER_DESC\n",
       " Female    361153\n",
       " Name: count, dtype: int64)"
      ]
     },
     "execution_count": 10,
     "metadata": {},
     "output_type": "execute_result"
    }
   ],
   "source": [
    "data_df.tissueden.value_counts(), data_df.GENDER_DESC.value_counts()"
   ]
  },
  {
   "cell_type": "code",
   "execution_count": 11,
   "metadata": {},
   "outputs": [
    {
     "name": "stderr",
     "output_type": "stream",
     "text": [
      "/tmp/ipykernel_3766846/1522402770.py:7: FutureWarning: Setting an item of incompatible dtype is deprecated and will raise in a future error of pandas. Value '[3.0 3.0 3.0 ... 2.0 2.0 2.0]' has dtype incompatible with float64, please explicitly cast to a compatible dtype first.\n",
      "  data_df.loc[:, \"tissueden\"] = data_df.loc[:, \"tissueden\"].replace(1.0, \"BIRADS A\")\n"
     ]
    }
   ],
   "source": [
    "# BI-RADS Density LABELS\n",
    "data_df[\"BIRADS_DENSITY\"] = data_df[\"tissueden\"]\n",
    "data_df.loc[:, \"BIRADS_DENSITY\"] = data_df.loc[:, \"BIRADS_DENSITY\"].replace(1.0, 0)\n",
    "data_df.loc[:, \"BIRADS_DENSITY\"] = data_df.loc[:, \"BIRADS_DENSITY\"].replace(2.0, 1)\n",
    "data_df.loc[:, \"BIRADS_DENSITY\"] = data_df.loc[:, \"BIRADS_DENSITY\"].replace(3.0, 2)\n",
    "data_df.loc[:, \"BIRADS_DENSITY\"] = data_df.loc[:, \"BIRADS_DENSITY\"].replace(4.0, 3)\n",
    "data_df.loc[:, \"tissueden\"] = data_df.loc[:, \"tissueden\"].replace(1.0, \"BIRADS A\")\n",
    "data_df.loc[:, \"tissueden\"] = data_df.loc[:, \"tissueden\"].replace(2.0, \"BIRADS B\")\n",
    "data_df.loc[:, \"tissueden\"] = data_df.loc[:, \"tissueden\"].replace(3.0, \"BIRADS C\")\n",
    "data_df.loc[:, \"tissueden\"] = data_df.loc[:, \"tissueden\"].replace(4.0, \"BIRADS D\")"
   ]
  },
  {
   "cell_type": "code",
   "execution_count": 12,
   "metadata": {},
   "outputs": [
    {
     "name": "stdout",
     "output_type": "stream",
     "text": [
      "BIRADS_DENSITY\n",
      "1.0    153523\n",
      "2.0    146108\n",
      "0.0     41899\n",
      "3.0     18629\n",
      "NaN       994\n",
      "Name: count, dtype: int64\n"
     ]
    }
   ],
   "source": [
    "print(data_df[\"BIRADS_DENSITY\"].value_counts(dropna=False))\n",
    "nan_vals = data_df.BIRADS_DENSITY.isna()\n",
    "data_df = data_df.loc[~nan_vals]"
   ]
  },
  {
   "cell_type": "code",
   "execution_count": 13,
   "metadata": {},
   "outputs": [
    {
     "data": {
      "text/plain": [
       "ViewPosition\n",
       "MLO    189134\n",
       "CC     171025\n",
       "Name: count, dtype: int64"
      ]
     },
     "execution_count": 13,
     "metadata": {},
     "output_type": "execute_result"
    }
   ],
   "source": [
    "data_df[\"ViewPosition\"].value_counts()"
   ]
  },
  {
   "cell_type": "markdown",
   "metadata": {},
   "source": [
    "### Train-test split"
   ]
  },
  {
   "cell_type": "code",
   "execution_count": 14,
   "metadata": {},
   "outputs": [
    {
     "data": {
      "text/plain": [
       "(split\n",
       " train    351277\n",
       " test       8882\n",
       " Name: count, dtype: int64,\n",
       " split\n",
       " train    351277\n",
       " test       8882\n",
       " Name: count, dtype: int64)"
      ]
     },
     "execution_count": 14,
     "metadata": {},
     "output_type": "execute_result"
    }
   ],
   "source": [
    "n_test_patients = 500\n",
    "test_patients = np.random.choice(data_df.empi_anon.unique(), n_test_patients, replace=False)\n",
    "data_df['split'] = \"train\"\n",
    "data_df.loc[data_df.empi_anon.isin(test_patients), 'split'] = \"test\"\n",
    "data_df['split'] = \"train\"\n",
    "data_df.loc[data_df.empi_anon.isin(test_patients), 'split'] = \"test\"\n",
    "data_df['split'].value_counts(normalize=False), data_df['split'].value_counts(normalize=False)"
   ]
  },
  {
   "cell_type": "code",
   "execution_count": 15,
   "metadata": {},
   "outputs": [
    {
     "data": {
      "text/plain": [
       "RACE_DESC\n",
       "Black            162012\n",
       "White            152965\n",
       "Other/Unknown     24363\n",
       "Asian             20819\n",
       "Name: count, dtype: int64"
      ]
     },
     "execution_count": 15,
     "metadata": {},
     "output_type": "execute_result"
    }
   ],
   "source": [
    "data_df.RACE_DESC.value_counts(normalize=False)"
   ]
  },
  {
   "cell_type": "code",
   "execution_count": null,
   "metadata": {},
   "outputs": [
    {
     "data": {
      "text/html": [
       "<div>\n",
       "<style scoped>\n",
       "    .dataframe tbody tr th:only-of-type {\n",
       "        vertical-align: middle;\n",
       "    }\n",
       "\n",
       "    .dataframe tbody tr th {\n",
       "        vertical-align: top;\n",
       "    }\n",
       "\n",
       "    .dataframe thead th {\n",
       "        text-align: right;\n",
       "    }\n",
       "</style>\n",
       "<table border=\"1\" class=\"dataframe\">\n",
       "  <thead>\n",
       "    <tr style=\"text-align: right;\">\n",
       "      <th></th>\n",
       "      <th>Unnamed: 0_x</th>\n",
       "      <th>empi_anon</th>\n",
       "      <th>acc_anon</th>\n",
       "      <th>desc</th>\n",
       "      <th>numfind</th>\n",
       "      <th>side</th>\n",
       "      <th>asses</th>\n",
       "      <th>tissueden</th>\n",
       "      <th>bside</th>\n",
       "      <th>GENDER_DESC</th>\n",
       "      <th>...</th>\n",
       "      <th>StudyID</th>\n",
       "      <th>WindowCenter</th>\n",
       "      <th>WindowWidth</th>\n",
       "      <th>has_pix_array</th>\n",
       "      <th>category</th>\n",
       "      <th>VOILUTFunction</th>\n",
       "      <th>WindowCenterWidthExplanation</th>\n",
       "      <th>preprocessed_img_exists</th>\n",
       "      <th>BIRADS_DENSITY</th>\n",
       "      <th>split</th>\n",
       "    </tr>\n",
       "  </thead>\n",
       "  <tbody>\n",
       "    <tr>\n",
       "      <th>0</th>\n",
       "      <td>2</td>\n",
       "      <td>78097721</td>\n",
       "      <td>3065491565033830</td>\n",
       "      <td>MG Screening Bilateral w/CAD</td>\n",
       "      <td>1</td>\n",
       "      <td>NaN</td>\n",
       "      <td>N</td>\n",
       "      <td>BIRADS C</td>\n",
       "      <td>NaN</td>\n",
       "      <td>Female</td>\n",
       "      <td>...</td>\n",
       "      <td>MG Screening Dig</td>\n",
       "      <td>2047.0</td>\n",
       "      <td>4096.0</td>\n",
       "      <td>False</td>\n",
       "      <td>no image</td>\n",
       "      <td>NaN</td>\n",
       "      <td>NaN</td>\n",
       "      <td>True</td>\n",
       "      <td>2.0</td>\n",
       "      <td>train</td>\n",
       "    </tr>\n",
       "    <tr>\n",
       "      <th>1</th>\n",
       "      <td>2</td>\n",
       "      <td>78097721</td>\n",
       "      <td>3065491565033830</td>\n",
       "      <td>MG Screening Bilateral w/CAD</td>\n",
       "      <td>1</td>\n",
       "      <td>NaN</td>\n",
       "      <td>N</td>\n",
       "      <td>BIRADS C</td>\n",
       "      <td>NaN</td>\n",
       "      <td>Female</td>\n",
       "      <td>...</td>\n",
       "      <td>MG Screening Dig</td>\n",
       "      <td>2047.0</td>\n",
       "      <td>4096.0</td>\n",
       "      <td>False</td>\n",
       "      <td>no image</td>\n",
       "      <td>NaN</td>\n",
       "      <td>NaN</td>\n",
       "      <td>True</td>\n",
       "      <td>2.0</td>\n",
       "      <td>train</td>\n",
       "    </tr>\n",
       "    <tr>\n",
       "      <th>2</th>\n",
       "      <td>2</td>\n",
       "      <td>78097721</td>\n",
       "      <td>3065491565033830</td>\n",
       "      <td>MG Screening Bilateral w/CAD</td>\n",
       "      <td>1</td>\n",
       "      <td>NaN</td>\n",
       "      <td>N</td>\n",
       "      <td>BIRADS C</td>\n",
       "      <td>NaN</td>\n",
       "      <td>Female</td>\n",
       "      <td>...</td>\n",
       "      <td>MG Screening Dig</td>\n",
       "      <td>2047.0</td>\n",
       "      <td>4096.0</td>\n",
       "      <td>False</td>\n",
       "      <td>no image</td>\n",
       "      <td>NaN</td>\n",
       "      <td>NaN</td>\n",
       "      <td>True</td>\n",
       "      <td>2.0</td>\n",
       "      <td>train</td>\n",
       "    </tr>\n",
       "    <tr>\n",
       "      <th>3</th>\n",
       "      <td>2</td>\n",
       "      <td>78097721</td>\n",
       "      <td>3065491565033830</td>\n",
       "      <td>MG Screening Bilateral w/CAD</td>\n",
       "      <td>1</td>\n",
       "      <td>NaN</td>\n",
       "      <td>N</td>\n",
       "      <td>BIRADS C</td>\n",
       "      <td>NaN</td>\n",
       "      <td>Female</td>\n",
       "      <td>...</td>\n",
       "      <td>MG Screening Dig</td>\n",
       "      <td>2047.0</td>\n",
       "      <td>4096.0</td>\n",
       "      <td>False</td>\n",
       "      <td>no image</td>\n",
       "      <td>NaN</td>\n",
       "      <td>NaN</td>\n",
       "      <td>True</td>\n",
       "      <td>2.0</td>\n",
       "      <td>train</td>\n",
       "    </tr>\n",
       "    <tr>\n",
       "      <th>4</th>\n",
       "      <td>2</td>\n",
       "      <td>78097721</td>\n",
       "      <td>3065491565033830</td>\n",
       "      <td>MG Screening Bilateral w/CAD</td>\n",
       "      <td>1</td>\n",
       "      <td>NaN</td>\n",
       "      <td>N</td>\n",
       "      <td>BIRADS C</td>\n",
       "      <td>NaN</td>\n",
       "      <td>Female</td>\n",
       "      <td>...</td>\n",
       "      <td>MG Screening Dig</td>\n",
       "      <td>2047.0</td>\n",
       "      <td>4096.0</td>\n",
       "      <td>False</td>\n",
       "      <td>no image</td>\n",
       "      <td>NaN</td>\n",
       "      <td>NaN</td>\n",
       "      <td>True</td>\n",
       "      <td>2.0</td>\n",
       "      <td>train</td>\n",
       "    </tr>\n",
       "    <tr>\n",
       "      <th>...</th>\n",
       "      <td>...</td>\n",
       "      <td>...</td>\n",
       "      <td>...</td>\n",
       "      <td>...</td>\n",
       "      <td>...</td>\n",
       "      <td>...</td>\n",
       "      <td>...</td>\n",
       "      <td>...</td>\n",
       "      <td>...</td>\n",
       "      <td>...</td>\n",
       "      <td>...</td>\n",
       "      <td>...</td>\n",
       "      <td>...</td>\n",
       "      <td>...</td>\n",
       "      <td>...</td>\n",
       "      <td>...</td>\n",
       "      <td>...</td>\n",
       "      <td>...</td>\n",
       "      <td>...</td>\n",
       "      <td>...</td>\n",
       "      <td>...</td>\n",
       "    </tr>\n",
       "    <tr>\n",
       "      <th>361148</th>\n",
       "      <td>81774</td>\n",
       "      <td>15857371</td>\n",
       "      <td>7583305421791405</td>\n",
       "      <td>MG Screen Bilat w/Tomo/CAD Stnd Protocol</td>\n",
       "      <td>1</td>\n",
       "      <td>NaN</td>\n",
       "      <td>N</td>\n",
       "      <td>BIRADS C</td>\n",
       "      <td>NaN</td>\n",
       "      <td>Female</td>\n",
       "      <td>...</td>\n",
       "      <td>MG Screen Bilat</td>\n",
       "      <td>2047.0</td>\n",
       "      <td>4096.0</td>\n",
       "      <td>False</td>\n",
       "      <td>no image</td>\n",
       "      <td>NaN</td>\n",
       "      <td>NaN</td>\n",
       "      <td>True</td>\n",
       "      <td>2.0</td>\n",
       "      <td>train</td>\n",
       "    </tr>\n",
       "    <tr>\n",
       "      <th>361149</th>\n",
       "      <td>81775</td>\n",
       "      <td>16742570</td>\n",
       "      <td>1021242753597722</td>\n",
       "      <td>MG Screen Bilat w/Tomo/CAD Stnd Protocol</td>\n",
       "      <td>1</td>\n",
       "      <td>NaN</td>\n",
       "      <td>N</td>\n",
       "      <td>BIRADS B</td>\n",
       "      <td>NaN</td>\n",
       "      <td>Female</td>\n",
       "      <td>...</td>\n",
       "      <td>MG Screen Bilat</td>\n",
       "      <td>2047.0</td>\n",
       "      <td>4096.0</td>\n",
       "      <td>False</td>\n",
       "      <td>no image</td>\n",
       "      <td>NaN</td>\n",
       "      <td>NaN</td>\n",
       "      <td>True</td>\n",
       "      <td>1.0</td>\n",
       "      <td>train</td>\n",
       "    </tr>\n",
       "    <tr>\n",
       "      <th>361150</th>\n",
       "      <td>81775</td>\n",
       "      <td>16742570</td>\n",
       "      <td>1021242753597722</td>\n",
       "      <td>MG Screen Bilat w/Tomo/CAD Stnd Protocol</td>\n",
       "      <td>1</td>\n",
       "      <td>NaN</td>\n",
       "      <td>N</td>\n",
       "      <td>BIRADS B</td>\n",
       "      <td>NaN</td>\n",
       "      <td>Female</td>\n",
       "      <td>...</td>\n",
       "      <td>MG Screen Bilat</td>\n",
       "      <td>2047.0</td>\n",
       "      <td>4096.0</td>\n",
       "      <td>False</td>\n",
       "      <td>no image</td>\n",
       "      <td>NaN</td>\n",
       "      <td>NaN</td>\n",
       "      <td>True</td>\n",
       "      <td>1.0</td>\n",
       "      <td>train</td>\n",
       "    </tr>\n",
       "    <tr>\n",
       "      <th>361151</th>\n",
       "      <td>81775</td>\n",
       "      <td>16742570</td>\n",
       "      <td>1021242753597722</td>\n",
       "      <td>MG Screen Bilat w/Tomo/CAD Stnd Protocol</td>\n",
       "      <td>1</td>\n",
       "      <td>NaN</td>\n",
       "      <td>N</td>\n",
       "      <td>BIRADS B</td>\n",
       "      <td>NaN</td>\n",
       "      <td>Female</td>\n",
       "      <td>...</td>\n",
       "      <td>MG Screen Bilat</td>\n",
       "      <td>2047.0</td>\n",
       "      <td>4096.0</td>\n",
       "      <td>False</td>\n",
       "      <td>no image</td>\n",
       "      <td>NaN</td>\n",
       "      <td>NaN</td>\n",
       "      <td>True</td>\n",
       "      <td>1.0</td>\n",
       "      <td>train</td>\n",
       "    </tr>\n",
       "    <tr>\n",
       "      <th>361152</th>\n",
       "      <td>81775</td>\n",
       "      <td>16742570</td>\n",
       "      <td>1021242753597722</td>\n",
       "      <td>MG Screen Bilat w/Tomo/CAD Stnd Protocol</td>\n",
       "      <td>1</td>\n",
       "      <td>NaN</td>\n",
       "      <td>N</td>\n",
       "      <td>BIRADS B</td>\n",
       "      <td>NaN</td>\n",
       "      <td>Female</td>\n",
       "      <td>...</td>\n",
       "      <td>MG Screen Bilat</td>\n",
       "      <td>2047.0</td>\n",
       "      <td>4096.0</td>\n",
       "      <td>False</td>\n",
       "      <td>no image</td>\n",
       "      <td>NaN</td>\n",
       "      <td>NaN</td>\n",
       "      <td>True</td>\n",
       "      <td>1.0</td>\n",
       "      <td>train</td>\n",
       "    </tr>\n",
       "  </tbody>\n",
       "</table>\n",
       "<p>360159 rows × 52 columns</p>\n",
       "</div>"
      ],
      "text/plain": [
       "        Unnamed: 0_x  empi_anon          acc_anon  \\\n",
       "0                  2   78097721  3065491565033830   \n",
       "1                  2   78097721  3065491565033830   \n",
       "2                  2   78097721  3065491565033830   \n",
       "3                  2   78097721  3065491565033830   \n",
       "4                  2   78097721  3065491565033830   \n",
       "...              ...        ...               ...   \n",
       "361148         81774   15857371  7583305421791405   \n",
       "361149         81775   16742570  1021242753597722   \n",
       "361150         81775   16742570  1021242753597722   \n",
       "361151         81775   16742570  1021242753597722   \n",
       "361152         81775   16742570  1021242753597722   \n",
       "\n",
       "                                            desc  numfind side asses  \\\n",
       "0                   MG Screening Bilateral w/CAD        1  NaN     N   \n",
       "1                   MG Screening Bilateral w/CAD        1  NaN     N   \n",
       "2                   MG Screening Bilateral w/CAD        1  NaN     N   \n",
       "3                   MG Screening Bilateral w/CAD        1  NaN     N   \n",
       "4                   MG Screening Bilateral w/CAD        1  NaN     N   \n",
       "...                                          ...      ...  ...   ...   \n",
       "361148  MG Screen Bilat w/Tomo/CAD Stnd Protocol        1  NaN     N   \n",
       "361149  MG Screen Bilat w/Tomo/CAD Stnd Protocol        1  NaN     N   \n",
       "361150  MG Screen Bilat w/Tomo/CAD Stnd Protocol        1  NaN     N   \n",
       "361151  MG Screen Bilat w/Tomo/CAD Stnd Protocol        1  NaN     N   \n",
       "361152  MG Screen Bilat w/Tomo/CAD Stnd Protocol        1  NaN     N   \n",
       "\n",
       "       tissueden bside GENDER_DESC  ...           StudyID WindowCenter  \\\n",
       "0       BIRADS C   NaN      Female  ...  MG Screening Dig       2047.0   \n",
       "1       BIRADS C   NaN      Female  ...  MG Screening Dig       2047.0   \n",
       "2       BIRADS C   NaN      Female  ...  MG Screening Dig       2047.0   \n",
       "3       BIRADS C   NaN      Female  ...  MG Screening Dig       2047.0   \n",
       "4       BIRADS C   NaN      Female  ...  MG Screening Dig       2047.0   \n",
       "...          ...   ...         ...  ...               ...          ...   \n",
       "361148  BIRADS C   NaN      Female  ...   MG Screen Bilat       2047.0   \n",
       "361149  BIRADS B   NaN      Female  ...   MG Screen Bilat       2047.0   \n",
       "361150  BIRADS B   NaN      Female  ...   MG Screen Bilat       2047.0   \n",
       "361151  BIRADS B   NaN      Female  ...   MG Screen Bilat       2047.0   \n",
       "361152  BIRADS B   NaN      Female  ...   MG Screen Bilat       2047.0   \n",
       "\n",
       "       WindowWidth  has_pix_array  category VOILUTFunction  \\\n",
       "0           4096.0          False  no image            NaN   \n",
       "1           4096.0          False  no image            NaN   \n",
       "2           4096.0          False  no image            NaN   \n",
       "3           4096.0          False  no image            NaN   \n",
       "4           4096.0          False  no image            NaN   \n",
       "...            ...            ...       ...            ...   \n",
       "361148      4096.0          False  no image            NaN   \n",
       "361149      4096.0          False  no image            NaN   \n",
       "361150      4096.0          False  no image            NaN   \n",
       "361151      4096.0          False  no image            NaN   \n",
       "361152      4096.0          False  no image            NaN   \n",
       "\n",
       "        WindowCenterWidthExplanation  preprocessed_img_exists  BIRADS_DENSITY  \\\n",
       "0                                NaN                     True             2.0   \n",
       "1                                NaN                     True             2.0   \n",
       "2                                NaN                     True             2.0   \n",
       "3                                NaN                     True             2.0   \n",
       "4                                NaN                     True             2.0   \n",
       "...                              ...                      ...             ...   \n",
       "361148                           NaN                     True             2.0   \n",
       "361149                           NaN                     True             1.0   \n",
       "361150                           NaN                     True             1.0   \n",
       "361151                           NaN                     True             1.0   \n",
       "361152                           NaN                     True             1.0   \n",
       "\n",
       "        split  \n",
       "0       train  \n",
       "1       train  \n",
       "2       train  \n",
       "3       train  \n",
       "4       train  \n",
       "...       ...  \n",
       "361148  train  \n",
       "361149  train  \n",
       "361150  train  \n",
       "361151  train  \n",
       "361152  train  \n",
       "\n",
       "[360159 rows x 52 columns]"
      ]
     },
     "execution_count": 20,
     "metadata": {},
     "output_type": "execute_result"
    }
   ],
   "source": [
    "data_df"
   ]
  },
  {
   "cell_type": "code",
   "execution_count": 16,
   "metadata": {},
   "outputs": [],
   "source": [
    "#data_df.to_csv(\"/home/moritz/repositories/med_leak/data/csv/embed.csv\")"
   ]
  }
 ],
 "metadata": {
  "kernelspec": {
   "display_name": "fair_leak",
   "language": "python",
   "name": "python3"
  },
  "language_info": {
   "codemirror_mode": {
    "name": "ipython",
    "version": 3
   },
   "file_extension": ".py",
   "mimetype": "text/x-python",
   "name": "python",
   "nbconvert_exporter": "python",
   "pygments_lexer": "ipython3",
   "version": "3.9.18"
  }
 },
 "nbformat": 4,
 "nbformat_minor": 4
}
