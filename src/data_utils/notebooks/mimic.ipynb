{
 "cells": [
  {
   "cell_type": "code",
   "execution_count": 1,
   "metadata": {},
   "outputs": [],
   "source": [
    "%load_ext autoreload\n",
    "%autoreload 2"
   ]
  },
  {
   "cell_type": "code",
   "execution_count": 2,
   "metadata": {},
   "outputs": [],
   "source": [
    "import pandas as pd\n",
    "import numpy as np\n",
    "import matplotlib.pyplot as plt\n",
    "import sys\n",
    "import seaborn as sns\n",
    "from pathlib import Path\n",
    "from tqdm import tqdm\n",
    "sys.path.append(\"/home/moritz/repositories/fair_leak/\")\n",
    "\n",
    "from fair_leak.data_utils.constants import CXR_SHORT_LABELS"
   ]
  },
  {
   "cell_type": "code",
   "execution_count": 3,
   "metadata": {},
   "outputs": [],
   "source": [
    "data_dir = Path(\"/home/moritz/data/mimic-cxr/mimic-cxr-jpg\")\n",
    "assert data_dir.exists() and data_dir.is_dir()"
   ]
  },
  {
   "cell_type": "code",
   "execution_count": 4,
   "metadata": {},
   "outputs": [],
   "source": [
    "metadata_df = pd.read_csv(data_dir / 'mimic-cxr-2.0.0-metadata.csv')\n",
    "diagnosis_df = pd.read_csv(data_dir / 'mimic-cxr-2.0.0-negbio.csv')\n",
    "admissions_df = pd.read_csv(data_dir / 'admissions.csv') # download from MIMIC-IV dataset\n",
    "patients_df = pd.read_csv(data_dir / 'patients.csv') # download from MIMIC-IV dataset\n",
    "split_df = pd.read_csv(data_dir / 'mimic-cxr-2.0.0-split.csv')"
   ]
  },
  {
   "cell_type": "code",
   "execution_count": 5,
   "metadata": {},
   "outputs": [
    {
     "data": {
      "text/html": [
       "<div>\n",
       "<style scoped>\n",
       "    .dataframe tbody tr th:only-of-type {\n",
       "        vertical-align: middle;\n",
       "    }\n",
       "\n",
       "    .dataframe tbody tr th {\n",
       "        vertical-align: top;\n",
       "    }\n",
       "\n",
       "    .dataframe thead th {\n",
       "        text-align: right;\n",
       "    }\n",
       "</style>\n",
       "<table border=\"1\" class=\"dataframe\">\n",
       "  <thead>\n",
       "    <tr style=\"text-align: right;\">\n",
       "      <th></th>\n",
       "      <th>subject_id</th>\n",
       "      <th>hadm_id</th>\n",
       "      <th>admittime</th>\n",
       "      <th>dischtime</th>\n",
       "      <th>deathtime</th>\n",
       "      <th>admission_type</th>\n",
       "      <th>admit_provider_id</th>\n",
       "      <th>admission_location</th>\n",
       "      <th>discharge_location</th>\n",
       "      <th>insurance</th>\n",
       "      <th>language</th>\n",
       "      <th>marital_status</th>\n",
       "      <th>race</th>\n",
       "      <th>edregtime</th>\n",
       "      <th>edouttime</th>\n",
       "      <th>hospital_expire_flag</th>\n",
       "    </tr>\n",
       "  </thead>\n",
       "  <tbody>\n",
       "    <tr>\n",
       "      <th>0</th>\n",
       "      <td>10000032</td>\n",
       "      <td>22595853</td>\n",
       "      <td>2180-05-06 22:23:00</td>\n",
       "      <td>2180-05-07 17:15:00</td>\n",
       "      <td>NaN</td>\n",
       "      <td>URGENT</td>\n",
       "      <td>P874LG</td>\n",
       "      <td>TRANSFER FROM HOSPITAL</td>\n",
       "      <td>HOME</td>\n",
       "      <td>Other</td>\n",
       "      <td>ENGLISH</td>\n",
       "      <td>WIDOWED</td>\n",
       "      <td>WHITE</td>\n",
       "      <td>2180-05-06 19:17:00</td>\n",
       "      <td>2180-05-06 23:30:00</td>\n",
       "      <td>0</td>\n",
       "    </tr>\n",
       "    <tr>\n",
       "      <th>1</th>\n",
       "      <td>10000032</td>\n",
       "      <td>22841357</td>\n",
       "      <td>2180-06-26 18:27:00</td>\n",
       "      <td>2180-06-27 18:49:00</td>\n",
       "      <td>NaN</td>\n",
       "      <td>EW EMER.</td>\n",
       "      <td>P09Q6Y</td>\n",
       "      <td>EMERGENCY ROOM</td>\n",
       "      <td>HOME</td>\n",
       "      <td>Medicaid</td>\n",
       "      <td>ENGLISH</td>\n",
       "      <td>WIDOWED</td>\n",
       "      <td>WHITE</td>\n",
       "      <td>2180-06-26 15:54:00</td>\n",
       "      <td>2180-06-26 21:31:00</td>\n",
       "      <td>0</td>\n",
       "    </tr>\n",
       "    <tr>\n",
       "      <th>2</th>\n",
       "      <td>10000032</td>\n",
       "      <td>25742920</td>\n",
       "      <td>2180-08-05 23:44:00</td>\n",
       "      <td>2180-08-07 17:50:00</td>\n",
       "      <td>NaN</td>\n",
       "      <td>EW EMER.</td>\n",
       "      <td>P60CC5</td>\n",
       "      <td>EMERGENCY ROOM</td>\n",
       "      <td>HOSPICE</td>\n",
       "      <td>Medicaid</td>\n",
       "      <td>ENGLISH</td>\n",
       "      <td>WIDOWED</td>\n",
       "      <td>WHITE</td>\n",
       "      <td>2180-08-05 20:58:00</td>\n",
       "      <td>2180-08-06 01:44:00</td>\n",
       "      <td>0</td>\n",
       "    </tr>\n",
       "    <tr>\n",
       "      <th>3</th>\n",
       "      <td>10000032</td>\n",
       "      <td>29079034</td>\n",
       "      <td>2180-07-23 12:35:00</td>\n",
       "      <td>2180-07-25 17:55:00</td>\n",
       "      <td>NaN</td>\n",
       "      <td>EW EMER.</td>\n",
       "      <td>P30KEH</td>\n",
       "      <td>EMERGENCY ROOM</td>\n",
       "      <td>HOME</td>\n",
       "      <td>Medicaid</td>\n",
       "      <td>ENGLISH</td>\n",
       "      <td>WIDOWED</td>\n",
       "      <td>WHITE</td>\n",
       "      <td>2180-07-23 05:54:00</td>\n",
       "      <td>2180-07-23 14:00:00</td>\n",
       "      <td>0</td>\n",
       "    </tr>\n",
       "    <tr>\n",
       "      <th>4</th>\n",
       "      <td>10000068</td>\n",
       "      <td>25022803</td>\n",
       "      <td>2160-03-03 23:16:00</td>\n",
       "      <td>2160-03-04 06:26:00</td>\n",
       "      <td>NaN</td>\n",
       "      <td>EU OBSERVATION</td>\n",
       "      <td>P51VDL</td>\n",
       "      <td>EMERGENCY ROOM</td>\n",
       "      <td>NaN</td>\n",
       "      <td>Other</td>\n",
       "      <td>ENGLISH</td>\n",
       "      <td>SINGLE</td>\n",
       "      <td>WHITE</td>\n",
       "      <td>2160-03-03 21:55:00</td>\n",
       "      <td>2160-03-04 06:26:00</td>\n",
       "      <td>0</td>\n",
       "    </tr>\n",
       "  </tbody>\n",
       "</table>\n",
       "</div>"
      ],
      "text/plain": [
       "   subject_id   hadm_id            admittime            dischtime deathtime  \\\n",
       "0    10000032  22595853  2180-05-06 22:23:00  2180-05-07 17:15:00       NaN   \n",
       "1    10000032  22841357  2180-06-26 18:27:00  2180-06-27 18:49:00       NaN   \n",
       "2    10000032  25742920  2180-08-05 23:44:00  2180-08-07 17:50:00       NaN   \n",
       "3    10000032  29079034  2180-07-23 12:35:00  2180-07-25 17:55:00       NaN   \n",
       "4    10000068  25022803  2160-03-03 23:16:00  2160-03-04 06:26:00       NaN   \n",
       "\n",
       "   admission_type admit_provider_id      admission_location  \\\n",
       "0          URGENT            P874LG  TRANSFER FROM HOSPITAL   \n",
       "1        EW EMER.            P09Q6Y          EMERGENCY ROOM   \n",
       "2        EW EMER.            P60CC5          EMERGENCY ROOM   \n",
       "3        EW EMER.            P30KEH          EMERGENCY ROOM   \n",
       "4  EU OBSERVATION            P51VDL          EMERGENCY ROOM   \n",
       "\n",
       "  discharge_location insurance language marital_status   race  \\\n",
       "0               HOME     Other  ENGLISH        WIDOWED  WHITE   \n",
       "1               HOME  Medicaid  ENGLISH        WIDOWED  WHITE   \n",
       "2            HOSPICE  Medicaid  ENGLISH        WIDOWED  WHITE   \n",
       "3               HOME  Medicaid  ENGLISH        WIDOWED  WHITE   \n",
       "4                NaN     Other  ENGLISH         SINGLE  WHITE   \n",
       "\n",
       "             edregtime            edouttime  hospital_expire_flag  \n",
       "0  2180-05-06 19:17:00  2180-05-06 23:30:00                     0  \n",
       "1  2180-06-26 15:54:00  2180-06-26 21:31:00                     0  \n",
       "2  2180-08-05 20:58:00  2180-08-06 01:44:00                     0  \n",
       "3  2180-07-23 05:54:00  2180-07-23 14:00:00                     0  \n",
       "4  2160-03-03 21:55:00  2160-03-04 06:26:00                     0  "
      ]
     },
     "execution_count": 5,
     "metadata": {},
     "output_type": "execute_result"
    }
   ],
   "source": [
    "admissions_df.head()"
   ]
  },
  {
   "cell_type": "code",
   "execution_count": 6,
   "metadata": {},
   "outputs": [
    {
     "name": "stdout",
     "output_type": "stream",
     "text": [
      "377110 images from 65379 patients\n"
     ]
    }
   ],
   "source": [
    "def get_info(df):\n",
    "    n_images = len(df)\n",
    "    n_patients = df.subject_id.nunique()\n",
    "    return n_images, n_patients\n",
    "original_n_images, original_n_patients = get_info(metadata_df)\n",
    "print(f\"{original_n_images} images from {original_n_patients} patients\")"
   ]
  },
  {
   "cell_type": "code",
   "execution_count": 7,
   "metadata": {},
   "outputs": [
    {
     "data": {
      "text/plain": [
       "race\n",
       "WHITE                                        272932\n",
       "BLACK/AFRICAN AMERICAN                        59959\n",
       "OTHER                                         15102\n",
       "UNKNOWN                                       10668\n",
       "HISPANIC/LATINO - PUERTO RICAN                 8076\n",
       "WHITE - OTHER EUROPEAN                         7925\n",
       "HISPANIC OR LATINO                             7754\n",
       "ASIAN                                          6156\n",
       "ASIAN - CHINESE                                5587\n",
       "WHITE - RUSSIAN                                5024\n",
       "BLACK/CAPE VERDEAN                             4765\n",
       "HISPANIC/LATINO - DOMINICAN                    4383\n",
       "BLACK/CARIBBEAN ISLAND                         2704\n",
       "BLACK/AFRICAN                                  2530\n",
       "PATIENT DECLINED TO ANSWER                     1761\n",
       "UNABLE TO OBTAIN                               1603\n",
       "PORTUGUESE                                     1510\n",
       "ASIAN - SOUTH EAST ASIAN                       1446\n",
       "HISPANIC/LATINO - GUATEMALAN                   1330\n",
       "ASIAN - ASIAN INDIAN                           1198\n",
       "WHITE - EASTERN EUROPEAN                       1170\n",
       "WHITE - BRAZILIAN                              1103\n",
       "AMERICAN INDIAN/ALASKA NATIVE                   919\n",
       "HISPANIC/LATINO - SALVADORAN                    892\n",
       "HISPANIC/LATINO - MEXICAN                       665\n",
       "HISPANIC/LATINO - COLUMBIAN                     639\n",
       "MULTIPLE RACE/ETHNICITY                         560\n",
       "HISPANIC/LATINO - HONDURAN                      536\n",
       "ASIAN - KOREAN                                  506\n",
       "SOUTH AMERICAN                                  505\n",
       "HISPANIC/LATINO - CUBAN                         500\n",
       "HISPANIC/LATINO - CENTRAL AMERICAN              437\n",
       "NATIVE HAWAIIAN OR OTHER PACIFIC ISLANDER       386\n",
       "Name: count, dtype: int64"
      ]
     },
     "execution_count": 7,
     "metadata": {},
     "output_type": "execute_result"
    }
   ],
   "source": [
    "admissions_df.race.value_counts()"
   ]
  },
  {
   "cell_type": "code",
   "execution_count": 8,
   "metadata": {},
   "outputs": [
    {
     "data": {
      "text/plain": [
       "race\n",
       "OTHER_WHITE                                                                                 1745\n",
       "UNKNOWN_WHITE                                                                                969\n",
       "WHITE_WHITE - OTHER EUROPEAN                                                                 804\n",
       "WHITE_WHITE - RUSSIAN                                                                        450\n",
       "HISPANIC OR LATINO_HISPANIC/LATINO - PUERTO RICAN                                            437\n",
       "                                                                                            ... \n",
       "HISPANIC OR LATINO_HISPANIC/LATINO - CENTRAL AMERICAN_HISPANIC/LATINO - GUATEMALAN_OTHER       1\n",
       "ASIAN_ASIAN - SOUTH EAST ASIAN_UNABLE TO OBTAIN                                                1\n",
       "BLACK/AFRICAN AMERICAN_HISPANIC/LATINO - CENTRAL AMERICAN                                      1\n",
       "ASIAN_BLACK/AFRICAN                                                                            1\n",
       "BLACK/AFRICAN_BLACK/AFRICAN AMERICAN_OTHER_PATIENT DECLINED TO ANSWER                          1\n",
       "Name: count, Length: 383, dtype: int64"
      ]
     },
     "execution_count": 8,
     "metadata": {},
     "output_type": "execute_result"
    }
   ],
   "source": [
    "# identify patients who have inconsistent documented race information\n",
    "# credit to github.com/robintibor\n",
    "ethnicity_df = admissions_df.loc[:,['subject_id', 'race']].drop_duplicates()\n",
    "\n",
    "v = ethnicity_df.subject_id.value_counts()\n",
    "subject_id_more_than_once = v.index[v.gt(1)]\n",
    "\n",
    "ambiguous_ethnicity_df = ethnicity_df[ethnicity_df.subject_id.isin(subject_id_more_than_once)]\n",
    "inconsistent_race = ambiguous_ethnicity_df.subject_id.unique()\n",
    "\n",
    "grouped = ambiguous_ethnicity_df.groupby('subject_id')\n",
    "grouped.aggregate(lambda x: \"_\".join(sorted(x))).race.value_counts()"
   ]
  },
  {
   "cell_type": "code",
   "execution_count": 9,
   "metadata": {},
   "outputs": [],
   "source": [
    "# set subjects with inconsistent race values to 'OTHER/UNKNOWN'\n",
    "ethnicity_df.loc[ethnicity_df.subject_id.isin(subject_id_more_than_once), 'race'] = 'OTHER/UNKNOWN'\n",
    "ethnicity_df = ethnicity_df.drop_duplicates(subset=['subject_id']) # drop duplicates\n",
    "assert ethnicity_df.subject_id.nunique() == len(ethnicity_df) # check for no duplicates"
   ]
  },
  {
   "cell_type": "code",
   "execution_count": 10,
   "metadata": {},
   "outputs": [
    {
     "data": {
      "text/plain": [
       "race\n",
       "WHITE                                        112017\n",
       "BLACK/AFRICAN AMERICAN                        18790\n",
       "OTHER/UNKNOWN                                  8786\n",
       "UNKNOWN                                        7402\n",
       "OTHER                                          6302\n",
       "ASIAN                                          3287\n",
       "WHITE - OTHER EUROPEAN                         2720\n",
       "HISPANIC OR LATINO                             2531\n",
       "HISPANIC/LATINO - PUERTO RICAN                 2410\n",
       "ASIAN - CHINESE                                2398\n",
       "BLACK/CAPE VERDEAN                             1754\n",
       "HISPANIC/LATINO - DOMINICAN                    1617\n",
       "WHITE - RUSSIAN                                1361\n",
       "BLACK/AFRICAN                                  1051\n",
       "BLACK/CARIBBEAN ISLAND                          984\n",
       "UNABLE TO OBTAIN                                899\n",
       "PATIENT DECLINED TO ANSWER                      793\n",
       "ASIAN - SOUTH EAST ASIAN                        588\n",
       "ASIAN - ASIAN INDIAN                            551\n",
       "HISPANIC/LATINO - GUATEMALAN                    515\n",
       "WHITE - BRAZILIAN                               499\n",
       "PORTUGUESE                                      455\n",
       "WHITE - EASTERN EUROPEAN                        403\n",
       "HISPANIC/LATINO - SALVADORAN                    339\n",
       "AMERICAN INDIAN/ALASKA NATIVE                   335\n",
       "HISPANIC/LATINO - MEXICAN                       325\n",
       "HISPANIC/LATINO - COLUMBIAN                     269\n",
       "ASIAN - KOREAN                                  256\n",
       "MULTIPLE RACE/ETHNICITY                         215\n",
       "SOUTH AMERICAN                                  212\n",
       "NATIVE HAWAIIAN OR OTHER PACIFIC ISLANDER       200\n",
       "HISPANIC/LATINO - HONDURAN                      171\n",
       "HISPANIC/LATINO - CUBAN                         151\n",
       "HISPANIC/LATINO - CENTRAL AMERICAN              147\n",
       "Name: count, dtype: int64"
      ]
     },
     "execution_count": 10,
     "metadata": {},
     "output_type": "execute_result"
    }
   ],
   "source": [
    "ethnicity_df.race.value_counts()"
   ]
  },
  {
   "cell_type": "code",
   "execution_count": 11,
   "metadata": {},
   "outputs": [
    {
     "data": {
      "text/html": [
       "<div>\n",
       "<style scoped>\n",
       "    .dataframe tbody tr th:only-of-type {\n",
       "        vertical-align: middle;\n",
       "    }\n",
       "\n",
       "    .dataframe tbody tr th {\n",
       "        vertical-align: top;\n",
       "    }\n",
       "\n",
       "    .dataframe thead th {\n",
       "        text-align: right;\n",
       "    }\n",
       "</style>\n",
       "<table border=\"1\" class=\"dataframe\">\n",
       "  <thead>\n",
       "    <tr style=\"text-align: right;\">\n",
       "      <th></th>\n",
       "      <th>dicom_id</th>\n",
       "      <th>subject_id</th>\n",
       "      <th>study_id</th>\n",
       "      <th>PerformedProcedureStepDescription</th>\n",
       "      <th>ViewPosition</th>\n",
       "      <th>Rows</th>\n",
       "      <th>Columns</th>\n",
       "      <th>StudyDate</th>\n",
       "      <th>StudyTime</th>\n",
       "      <th>ProcedureCodeSequence_CodeMeaning</th>\n",
       "      <th>ViewCodeSequence_CodeMeaning</th>\n",
       "      <th>PatientOrientationCodeSequence_CodeMeaning</th>\n",
       "    </tr>\n",
       "  </thead>\n",
       "  <tbody>\n",
       "    <tr>\n",
       "      <th>0</th>\n",
       "      <td>02aa804e-bde0afdd-112c0b34-7bc16630-4e384014</td>\n",
       "      <td>10000032</td>\n",
       "      <td>50414267</td>\n",
       "      <td>CHEST (PA AND LAT)</td>\n",
       "      <td>PA</td>\n",
       "      <td>3056</td>\n",
       "      <td>2544</td>\n",
       "      <td>21800506</td>\n",
       "      <td>213014.531</td>\n",
       "      <td>CHEST (PA AND LAT)</td>\n",
       "      <td>postero-anterior</td>\n",
       "      <td>Erect</td>\n",
       "    </tr>\n",
       "    <tr>\n",
       "      <th>1</th>\n",
       "      <td>174413ec-4ec4c1f7-34ea26b7-c5f994f8-79ef1962</td>\n",
       "      <td>10000032</td>\n",
       "      <td>50414267</td>\n",
       "      <td>CHEST (PA AND LAT)</td>\n",
       "      <td>LATERAL</td>\n",
       "      <td>3056</td>\n",
       "      <td>2544</td>\n",
       "      <td>21800506</td>\n",
       "      <td>213014.531</td>\n",
       "      <td>CHEST (PA AND LAT)</td>\n",
       "      <td>lateral</td>\n",
       "      <td>Erect</td>\n",
       "    </tr>\n",
       "    <tr>\n",
       "      <th>2</th>\n",
       "      <td>2a2277a9-b0ded155-c0de8eb9-c124d10e-82c5caab</td>\n",
       "      <td>10000032</td>\n",
       "      <td>53189527</td>\n",
       "      <td>CHEST (PA AND LAT)</td>\n",
       "      <td>PA</td>\n",
       "      <td>3056</td>\n",
       "      <td>2544</td>\n",
       "      <td>21800626</td>\n",
       "      <td>165500.312</td>\n",
       "      <td>CHEST (PA AND LAT)</td>\n",
       "      <td>postero-anterior</td>\n",
       "      <td>Erect</td>\n",
       "    </tr>\n",
       "    <tr>\n",
       "      <th>3</th>\n",
       "      <td>e084de3b-be89b11e-20fe3f9f-9c8d8dfe-4cfd202c</td>\n",
       "      <td>10000032</td>\n",
       "      <td>53189527</td>\n",
       "      <td>CHEST (PA AND LAT)</td>\n",
       "      <td>LATERAL</td>\n",
       "      <td>3056</td>\n",
       "      <td>2544</td>\n",
       "      <td>21800626</td>\n",
       "      <td>165500.312</td>\n",
       "      <td>CHEST (PA AND LAT)</td>\n",
       "      <td>lateral</td>\n",
       "      <td>Erect</td>\n",
       "    </tr>\n",
       "    <tr>\n",
       "      <th>4</th>\n",
       "      <td>68b5c4b1-227d0485-9cc38c3f-7b84ab51-4b472714</td>\n",
       "      <td>10000032</td>\n",
       "      <td>53911762</td>\n",
       "      <td>CHEST (PORTABLE AP)</td>\n",
       "      <td>AP</td>\n",
       "      <td>2705</td>\n",
       "      <td>2539</td>\n",
       "      <td>21800723</td>\n",
       "      <td>80556.875</td>\n",
       "      <td>CHEST (PORTABLE AP)</td>\n",
       "      <td>antero-posterior</td>\n",
       "      <td>NaN</td>\n",
       "    </tr>\n",
       "    <tr>\n",
       "      <th>...</th>\n",
       "      <td>...</td>\n",
       "      <td>...</td>\n",
       "      <td>...</td>\n",
       "      <td>...</td>\n",
       "      <td>...</td>\n",
       "      <td>...</td>\n",
       "      <td>...</td>\n",
       "      <td>...</td>\n",
       "      <td>...</td>\n",
       "      <td>...</td>\n",
       "      <td>...</td>\n",
       "      <td>...</td>\n",
       "    </tr>\n",
       "    <tr>\n",
       "      <th>377105</th>\n",
       "      <td>428e2c18-5721d8f3-35a05001-36f3d080-9053b83c</td>\n",
       "      <td>19999733</td>\n",
       "      <td>57132437</td>\n",
       "      <td>CHEST (PA AND LAT)</td>\n",
       "      <td>PA</td>\n",
       "      <td>3056</td>\n",
       "      <td>2544</td>\n",
       "      <td>21520708</td>\n",
       "      <td>224550.171</td>\n",
       "      <td>CHEST (PA AND LAT)</td>\n",
       "      <td>postero-anterior</td>\n",
       "      <td>Erect</td>\n",
       "    </tr>\n",
       "    <tr>\n",
       "      <th>377106</th>\n",
       "      <td>58c403aa-35ff8bd9-73e39f54-8dc9cc5d-e0ec3fa9</td>\n",
       "      <td>19999733</td>\n",
       "      <td>57132437</td>\n",
       "      <td>CHEST (PA AND LAT)</td>\n",
       "      <td>LATERAL</td>\n",
       "      <td>3056</td>\n",
       "      <td>2544</td>\n",
       "      <td>21520708</td>\n",
       "      <td>224550.171</td>\n",
       "      <td>CHEST (PA AND LAT)</td>\n",
       "      <td>lateral</td>\n",
       "      <td>Erect</td>\n",
       "    </tr>\n",
       "    <tr>\n",
       "      <th>377107</th>\n",
       "      <td>58766883-376a15ce-3b323a28-6af950a0-16b793bd</td>\n",
       "      <td>19999987</td>\n",
       "      <td>55368167</td>\n",
       "      <td>CHEST (PORTABLE AP)</td>\n",
       "      <td>AP</td>\n",
       "      <td>2544</td>\n",
       "      <td>3056</td>\n",
       "      <td>21451104</td>\n",
       "      <td>51448.218</td>\n",
       "      <td>CHEST (PORTABLE AP)</td>\n",
       "      <td>antero-posterior</td>\n",
       "      <td>Erect</td>\n",
       "    </tr>\n",
       "    <tr>\n",
       "      <th>377108</th>\n",
       "      <td>7ba273af-3d290f8d-e28d0ab4-484b7a86-7fc12b08</td>\n",
       "      <td>19999987</td>\n",
       "      <td>58621812</td>\n",
       "      <td>CHEST (PORTABLE AP)</td>\n",
       "      <td>AP</td>\n",
       "      <td>3056</td>\n",
       "      <td>2544</td>\n",
       "      <td>21451102</td>\n",
       "      <td>202809.234</td>\n",
       "      <td>CHEST (PORTABLE AP)</td>\n",
       "      <td>antero-posterior</td>\n",
       "      <td>Erect</td>\n",
       "    </tr>\n",
       "    <tr>\n",
       "      <th>377109</th>\n",
       "      <td>1a1fe7e3-cbac5d93-b339aeda-86bb86b5-4f31e82e</td>\n",
       "      <td>19999987</td>\n",
       "      <td>58971208</td>\n",
       "      <td>CHEST (PORTABLE AP)</td>\n",
       "      <td>AP</td>\n",
       "      <td>3056</td>\n",
       "      <td>2544</td>\n",
       "      <td>21451103</td>\n",
       "      <td>50507.625</td>\n",
       "      <td>CHEST (PORTABLE AP)</td>\n",
       "      <td>antero-posterior</td>\n",
       "      <td>Recumbent</td>\n",
       "    </tr>\n",
       "  </tbody>\n",
       "</table>\n",
       "<p>377110 rows × 12 columns</p>\n",
       "</div>"
      ],
      "text/plain": [
       "                                            dicom_id  subject_id  study_id  \\\n",
       "0       02aa804e-bde0afdd-112c0b34-7bc16630-4e384014    10000032  50414267   \n",
       "1       174413ec-4ec4c1f7-34ea26b7-c5f994f8-79ef1962    10000032  50414267   \n",
       "2       2a2277a9-b0ded155-c0de8eb9-c124d10e-82c5caab    10000032  53189527   \n",
       "3       e084de3b-be89b11e-20fe3f9f-9c8d8dfe-4cfd202c    10000032  53189527   \n",
       "4       68b5c4b1-227d0485-9cc38c3f-7b84ab51-4b472714    10000032  53911762   \n",
       "...                                              ...         ...       ...   \n",
       "377105  428e2c18-5721d8f3-35a05001-36f3d080-9053b83c    19999733  57132437   \n",
       "377106  58c403aa-35ff8bd9-73e39f54-8dc9cc5d-e0ec3fa9    19999733  57132437   \n",
       "377107  58766883-376a15ce-3b323a28-6af950a0-16b793bd    19999987  55368167   \n",
       "377108  7ba273af-3d290f8d-e28d0ab4-484b7a86-7fc12b08    19999987  58621812   \n",
       "377109  1a1fe7e3-cbac5d93-b339aeda-86bb86b5-4f31e82e    19999987  58971208   \n",
       "\n",
       "       PerformedProcedureStepDescription ViewPosition  Rows  Columns  \\\n",
       "0                     CHEST (PA AND LAT)           PA  3056     2544   \n",
       "1                     CHEST (PA AND LAT)      LATERAL  3056     2544   \n",
       "2                     CHEST (PA AND LAT)           PA  3056     2544   \n",
       "3                     CHEST (PA AND LAT)      LATERAL  3056     2544   \n",
       "4                    CHEST (PORTABLE AP)           AP  2705     2539   \n",
       "...                                  ...          ...   ...      ...   \n",
       "377105                CHEST (PA AND LAT)           PA  3056     2544   \n",
       "377106                CHEST (PA AND LAT)      LATERAL  3056     2544   \n",
       "377107               CHEST (PORTABLE AP)           AP  2544     3056   \n",
       "377108               CHEST (PORTABLE AP)           AP  3056     2544   \n",
       "377109               CHEST (PORTABLE AP)           AP  3056     2544   \n",
       "\n",
       "        StudyDate   StudyTime ProcedureCodeSequence_CodeMeaning  \\\n",
       "0        21800506  213014.531                CHEST (PA AND LAT)   \n",
       "1        21800506  213014.531                CHEST (PA AND LAT)   \n",
       "2        21800626  165500.312                CHEST (PA AND LAT)   \n",
       "3        21800626  165500.312                CHEST (PA AND LAT)   \n",
       "4        21800723   80556.875               CHEST (PORTABLE AP)   \n",
       "...           ...         ...                               ...   \n",
       "377105   21520708  224550.171                CHEST (PA AND LAT)   \n",
       "377106   21520708  224550.171                CHEST (PA AND LAT)   \n",
       "377107   21451104   51448.218               CHEST (PORTABLE AP)   \n",
       "377108   21451102  202809.234               CHEST (PORTABLE AP)   \n",
       "377109   21451103   50507.625               CHEST (PORTABLE AP)   \n",
       "\n",
       "       ViewCodeSequence_CodeMeaning PatientOrientationCodeSequence_CodeMeaning  \n",
       "0                  postero-anterior                                      Erect  \n",
       "1                           lateral                                      Erect  \n",
       "2                  postero-anterior                                      Erect  \n",
       "3                           lateral                                      Erect  \n",
       "4                  antero-posterior                                        NaN  \n",
       "...                             ...                                        ...  \n",
       "377105             postero-anterior                                      Erect  \n",
       "377106                      lateral                                      Erect  \n",
       "377107             antero-posterior                                      Erect  \n",
       "377108             antero-posterior                                      Erect  \n",
       "377109             antero-posterior                                  Recumbent  \n",
       "\n",
       "[377110 rows x 12 columns]"
      ]
     },
     "execution_count": 11,
     "metadata": {},
     "output_type": "execute_result"
    }
   ],
   "source": [
    "metadata_df"
   ]
  },
  {
   "cell_type": "code",
   "execution_count": 12,
   "metadata": {},
   "outputs": [],
   "source": [
    "merge_df = pd.merge(metadata_df, diagnosis_df, on=['subject_id', 'study_id'], how='left', validate='many_to_one') # to not drop duplicate images here set how='left'\n",
    "assert get_info(merge_df) == (original_n_images, original_n_patients) # check we haven't lost any images or patients\n",
    "merge_df = pd.merge(merge_df, ethnicity_df, how='left', on='subject_id')\n",
    "assert get_info(merge_df) == (original_n_images, original_n_patients) # check we haven't lost any images or patients"
   ]
  },
  {
   "cell_type": "code",
   "execution_count": 13,
   "metadata": {},
   "outputs": [
    {
     "data": {
      "text/plain": [
       "(377110, 65379)"
      ]
     },
     "execution_count": 13,
     "metadata": {},
     "output_type": "execute_result"
    }
   ],
   "source": [
    "get_info(merge_df)"
   ]
  },
  {
   "cell_type": "code",
   "execution_count": 14,
   "metadata": {},
   "outputs": [],
   "source": [
    "assert patients_df.subject_id.nunique() == len(patients_df) # check for no subject duplicates in patients_df\n",
    "df_cxr = pd.merge(merge_df, patients_df, how='left', on='subject_id', validate='many_to_one')\n",
    "df_cxr = pd.merge(df_cxr, split_df, on=['study_id', 'subject_id', 'dicom_id'], validate='many_to_many')\n",
    "assert get_info(df_cxr) == (original_n_images, original_n_patients) # check we haven't lost any images or patients"
   ]
  },
  {
   "cell_type": "code",
   "execution_count": 15,
   "metadata": {},
   "outputs": [
    {
     "data": {
      "text/plain": [
       "((377110, 65379), (377110, 65379))"
      ]
     },
     "execution_count": 15,
     "metadata": {},
     "output_type": "execute_result"
    }
   ],
   "source": [
    "get_info(df_cxr), get_info(split_df)"
   ]
  },
  {
   "cell_type": "code",
   "execution_count": 16,
   "metadata": {},
   "outputs": [
    {
     "data": {
      "text/plain": [
       "Index(['dicom_id', 'subject_id', 'study_id',\n",
       "       'PerformedProcedureStepDescription', 'ViewPosition', 'Rows', 'Columns',\n",
       "       'StudyDate', 'StudyTime', 'ProcedureCodeSequence_CodeMeaning',\n",
       "       'ViewCodeSequence_CodeMeaning',\n",
       "       'PatientOrientationCodeSequence_CodeMeaning', 'Atelectasis',\n",
       "       'Cardiomegaly', 'Consolidation', 'Edema', 'Enlarged Cardiomediastinum',\n",
       "       'Fracture', 'Lung Lesion', 'Lung Opacity', 'No Finding',\n",
       "       'Pleural Effusion', 'Pleural Other', 'Pneumonia', 'Pneumothorax',\n",
       "       'Support Devices', 'race', 'gender', 'anchor_age', 'anchor_year',\n",
       "       'anchor_year_group', 'dod', 'split'],\n",
       "      dtype='object')"
      ]
     },
     "execution_count": 16,
     "metadata": {},
     "output_type": "execute_result"
    }
   ],
   "source": [
    "df_cxr.columns"
   ]
  },
  {
   "cell_type": "code",
   "execution_count": 17,
   "metadata": {},
   "outputs": [
    {
     "data": {
      "text/plain": [
       "((377110, 65379), 377110, 65379)"
      ]
     },
     "execution_count": 17,
     "metadata": {},
     "output_type": "execute_result"
    }
   ],
   "source": [
    "get_info(df_cxr), original_n_images, original_n_patients"
   ]
  },
  {
   "cell_type": "code",
   "execution_count": 18,
   "metadata": {},
   "outputs": [],
   "source": [
    "# summarize values for race column\n",
    "white = 'White'\n",
    "asian = 'Asian'\n",
    "black = 'Black'\n",
    "other = \"Other/Unknown\"\n",
    "\n",
    "black_mask = (df_cxr.race.str.contains(\"BLACK\", na=False))\n",
    "white_mask = (df_cxr.race.str.contains(\"WHITE\", na=False))\n",
    "asian_mask = (df_cxr.race.str.contains(\"ASIAN\", na=False))\n",
    "other_mask = np.logical_not(black_mask | white_mask | asian_mask)\n",
    "\n",
    "df_cxr.loc[black_mask, \"race\"] = black\n",
    "df_cxr.loc[white_mask, \"race\"] = white\n",
    "df_cxr.loc[asian_mask, \"race\"] = asian\n",
    "df_cxr.loc[other_mask, \"race\"] = other"
   ]
  },
  {
   "cell_type": "code",
   "execution_count": 19,
   "metadata": {},
   "outputs": [
    {
     "data": {
      "text/plain": [
       "race\n",
       "White            197205\n",
       "Other/Unknown    120244\n",
       "Black             50750\n",
       "Asian              8911\n",
       "Name: count, dtype: int64"
      ]
     },
     "execution_count": 19,
     "metadata": {},
     "output_type": "execute_result"
    }
   ],
   "source": [
    "df_cxr.race.value_counts()"
   ]
  },
  {
   "cell_type": "code",
   "execution_count": 20,
   "metadata": {},
   "outputs": [
    {
     "data": {
      "text/plain": [
       "(377110, 65379)"
      ]
     },
     "execution_count": 20,
     "metadata": {},
     "output_type": "execute_result"
    }
   ],
   "source": [
    "get_info(df_cxr)"
   ]
  },
  {
   "cell_type": "code",
   "execution_count": 21,
   "metadata": {},
   "outputs": [],
   "source": [
    "# rename gender column to sex\n",
    "df_cxr = df_cxr.rename(columns={'gender': 'Sex'})\n",
    "#add path column\n",
    "df_cxr.subject_id = df_cxr.subject_id.astype(str)\n",
    "df_cxr.study_id = df_cxr.study_id.astype(str)\n",
    "df_cxr.insert(2, \"path\", \"\")\n",
    "df_cxr.path = df_cxr.subject_id.str[0:2]\n",
    "df_cxr.path = \"p\" + df_cxr.path\n",
    "df_cxr.path = df_cxr.path + \"/p\" + df_cxr.subject_id + \"/s\" + df_cxr.study_id + \"/\" + df_cxr.dicom_id + \".jpg\"\n",
    "# change M/F in sex column to Male/ Female\n",
    "df_cxr['Sex'] = df_cxr['Sex'].replace({'M': 'Male', 'F': 'Female'})\n"
   ]
  },
  {
   "cell_type": "code",
   "execution_count": 22,
   "metadata": {},
   "outputs": [],
   "source": [
    "#df_cxr.to_csv(\"/home/moritz/repositories/fair_leak/data/csv/mimic_df_full.csv\", index=False)"
   ]
  },
  {
   "cell_type": "markdown",
   "metadata": {},
   "source": [
    "Optional exclusion criteria to make sure there is only one image per patient"
   ]
  },
  {
   "cell_type": "code",
   "execution_count": 23,
   "metadata": {},
   "outputs": [],
   "source": [
    "df_cxr = df_cxr[df_cxr.ViewPosition.isin([\"AP\", \"PA\"])]  # only AP and PA views\n",
    "df_cxr = df_cxr.reset_index(drop=True)\n",
    "_, n_patients = get_info(df_cxr)\n",
    "indices = (\n",
    "    df_cxr.groupby(\"subject_id\")[\"study_id\"].idxmin().tolist()\n",
    ")  # only first image per patient\n",
    "idc_mask = np.zeros(len(df_cxr), dtype=np.bool_)\n",
    "idc_mask[indices] = True\n",
    "assert (\n",
    "    sum(idc_mask) == n_patients\n",
    "), f\"Careful some patients got lost or duplicated. {len(reduced_idcs)} vs {n_patients}\"\n",
    "df_cxr = df_cxr.loc[idc_mask]\n",
    "df_cxr = df_cxr.reset_index(drop=True)"
   ]
  },
  {
   "cell_type": "code",
   "execution_count": 24,
   "metadata": {},
   "outputs": [
    {
     "data": {
      "text/plain": [
       "(63945, 63945)"
      ]
     },
     "execution_count": 24,
     "metadata": {},
     "output_type": "execute_result"
    }
   ],
   "source": [
    "get_info(df_cxr)"
   ]
  },
  {
   "cell_type": "code",
   "execution_count": 25,
   "metadata": {},
   "outputs": [
    {
     "data": {
      "text/plain": [
       "split\n",
       "train       63169\n",
       "validate      487\n",
       "test          289\n",
       "Name: count, dtype: int64"
      ]
     },
     "execution_count": 25,
     "metadata": {},
     "output_type": "execute_result"
    }
   ],
   "source": [
    "df_cxr.split.value_counts()"
   ]
  },
  {
   "cell_type": "code",
   "execution_count": 26,
   "metadata": {},
   "outputs": [
    {
     "data": {
      "text/html": [
       "<div>\n",
       "<style scoped>\n",
       "    .dataframe tbody tr th:only-of-type {\n",
       "        vertical-align: middle;\n",
       "    }\n",
       "\n",
       "    .dataframe tbody tr th {\n",
       "        vertical-align: top;\n",
       "    }\n",
       "\n",
       "    .dataframe thead th {\n",
       "        text-align: right;\n",
       "    }\n",
       "</style>\n",
       "<table border=\"1\" class=\"dataframe\">\n",
       "  <thead>\n",
       "    <tr style=\"text-align: right;\">\n",
       "      <th></th>\n",
       "      <th>dicom_id</th>\n",
       "      <th>subject_id</th>\n",
       "      <th>path</th>\n",
       "      <th>study_id</th>\n",
       "      <th>PerformedProcedureStepDescription</th>\n",
       "      <th>ViewPosition</th>\n",
       "      <th>Rows</th>\n",
       "      <th>Columns</th>\n",
       "      <th>StudyDate</th>\n",
       "      <th>StudyTime</th>\n",
       "      <th>...</th>\n",
       "      <th>Pneumonia</th>\n",
       "      <th>Pneumothorax</th>\n",
       "      <th>Support Devices</th>\n",
       "      <th>race</th>\n",
       "      <th>Sex</th>\n",
       "      <th>anchor_age</th>\n",
       "      <th>anchor_year</th>\n",
       "      <th>anchor_year_group</th>\n",
       "      <th>dod</th>\n",
       "      <th>split</th>\n",
       "    </tr>\n",
       "  </thead>\n",
       "  <tbody>\n",
       "    <tr>\n",
       "      <th>0</th>\n",
       "      <td>02aa804e-bde0afdd-112c0b34-7bc16630-4e384014</td>\n",
       "      <td>10000032</td>\n",
       "      <td>p10/p10000032/s50414267/02aa804e-bde0afdd-112c...</td>\n",
       "      <td>50414267</td>\n",
       "      <td>CHEST (PA AND LAT)</td>\n",
       "      <td>PA</td>\n",
       "      <td>3056</td>\n",
       "      <td>2544</td>\n",
       "      <td>21800506</td>\n",
       "      <td>213014.531</td>\n",
       "      <td>...</td>\n",
       "      <td>NaN</td>\n",
       "      <td>NaN</td>\n",
       "      <td>NaN</td>\n",
       "      <td>White</td>\n",
       "      <td>Female</td>\n",
       "      <td>52.0</td>\n",
       "      <td>2180.0</td>\n",
       "      <td>2014 - 2016</td>\n",
       "      <td>2180-09-09</td>\n",
       "      <td>train</td>\n",
       "    </tr>\n",
       "    <tr>\n",
       "      <th>1</th>\n",
       "      <td>096052b7-d256dc40-453a102b-fa7d01c6-1b22c6b4</td>\n",
       "      <td>10000764</td>\n",
       "      <td>p10/p10000764/s57375967/096052b7-d256dc40-453a...</td>\n",
       "      <td>57375967</td>\n",
       "      <td>CHEST (PA AND LAT)</td>\n",
       "      <td>AP</td>\n",
       "      <td>2544</td>\n",
       "      <td>3056</td>\n",
       "      <td>21321015</td>\n",
       "      <td>84047.984</td>\n",
       "      <td>...</td>\n",
       "      <td>-1.0</td>\n",
       "      <td>NaN</td>\n",
       "      <td>NaN</td>\n",
       "      <td>White</td>\n",
       "      <td>Male</td>\n",
       "      <td>86.0</td>\n",
       "      <td>2132.0</td>\n",
       "      <td>2014 - 2016</td>\n",
       "      <td>NaN</td>\n",
       "      <td>train</td>\n",
       "    </tr>\n",
       "    <tr>\n",
       "      <th>2</th>\n",
       "      <td>2a280266-c8bae121-54d75383-cac046f4-ca37aa16</td>\n",
       "      <td>10000898</td>\n",
       "      <td>p10/p10000898/s50771383/2a280266-c8bae121-54d7...</td>\n",
       "      <td>50771383</td>\n",
       "      <td>CHEST (PA AND LAT)</td>\n",
       "      <td>PA</td>\n",
       "      <td>2544</td>\n",
       "      <td>3056</td>\n",
       "      <td>21880312</td>\n",
       "      <td>125501.842</td>\n",
       "      <td>...</td>\n",
       "      <td>NaN</td>\n",
       "      <td>NaN</td>\n",
       "      <td>NaN</td>\n",
       "      <td>Other/Unknown</td>\n",
       "      <td>Female</td>\n",
       "      <td>80.0</td>\n",
       "      <td>2188.0</td>\n",
       "      <td>2014 - 2016</td>\n",
       "      <td>NaN</td>\n",
       "      <td>train</td>\n",
       "    </tr>\n",
       "    <tr>\n",
       "      <th>3</th>\n",
       "      <td>d0b71acc-b5a62046-bbb5f6b8-7b173b85-65cdf738</td>\n",
       "      <td>10000935</td>\n",
       "      <td>p10/p10000935/s50578979/d0b71acc-b5a62046-bbb5...</td>\n",
       "      <td>50578979</td>\n",
       "      <td>CHEST (PORTABLE AP)</td>\n",
       "      <td>AP</td>\n",
       "      <td>2870</td>\n",
       "      <td>2402</td>\n",
       "      <td>21871016</td>\n",
       "      <td>123945.421</td>\n",
       "      <td>...</td>\n",
       "      <td>1.0</td>\n",
       "      <td>NaN</td>\n",
       "      <td>NaN</td>\n",
       "      <td>Black</td>\n",
       "      <td>Female</td>\n",
       "      <td>52.0</td>\n",
       "      <td>2182.0</td>\n",
       "      <td>2008 - 2010</td>\n",
       "      <td>2187-11-12</td>\n",
       "      <td>train</td>\n",
       "    </tr>\n",
       "    <tr>\n",
       "      <th>4</th>\n",
       "      <td>6ad03ed1-97ee17ee-9cf8b320-f7011003-cd93b42d</td>\n",
       "      <td>10000980</td>\n",
       "      <td>p10/p10000980/s50985099/6ad03ed1-97ee17ee-9cf8...</td>\n",
       "      <td>50985099</td>\n",
       "      <td>NaN</td>\n",
       "      <td>PA</td>\n",
       "      <td>2022</td>\n",
       "      <td>1870</td>\n",
       "      <td>21910917</td>\n",
       "      <td>130354.000</td>\n",
       "      <td>...</td>\n",
       "      <td>-1.0</td>\n",
       "      <td>NaN</td>\n",
       "      <td>NaN</td>\n",
       "      <td>Black</td>\n",
       "      <td>Female</td>\n",
       "      <td>73.0</td>\n",
       "      <td>2186.0</td>\n",
       "      <td>2008 - 2010</td>\n",
       "      <td>2193-08-26</td>\n",
       "      <td>train</td>\n",
       "    </tr>\n",
       "  </tbody>\n",
       "</table>\n",
       "<p>5 rows × 34 columns</p>\n",
       "</div>"
      ],
      "text/plain": [
       "                                       dicom_id subject_id  \\\n",
       "0  02aa804e-bde0afdd-112c0b34-7bc16630-4e384014   10000032   \n",
       "1  096052b7-d256dc40-453a102b-fa7d01c6-1b22c6b4   10000764   \n",
       "2  2a280266-c8bae121-54d75383-cac046f4-ca37aa16   10000898   \n",
       "3  d0b71acc-b5a62046-bbb5f6b8-7b173b85-65cdf738   10000935   \n",
       "4  6ad03ed1-97ee17ee-9cf8b320-f7011003-cd93b42d   10000980   \n",
       "\n",
       "                                                path  study_id  \\\n",
       "0  p10/p10000032/s50414267/02aa804e-bde0afdd-112c...  50414267   \n",
       "1  p10/p10000764/s57375967/096052b7-d256dc40-453a...  57375967   \n",
       "2  p10/p10000898/s50771383/2a280266-c8bae121-54d7...  50771383   \n",
       "3  p10/p10000935/s50578979/d0b71acc-b5a62046-bbb5...  50578979   \n",
       "4  p10/p10000980/s50985099/6ad03ed1-97ee17ee-9cf8...  50985099   \n",
       "\n",
       "  PerformedProcedureStepDescription ViewPosition  Rows  Columns  StudyDate  \\\n",
       "0                CHEST (PA AND LAT)           PA  3056     2544   21800506   \n",
       "1                CHEST (PA AND LAT)           AP  2544     3056   21321015   \n",
       "2                CHEST (PA AND LAT)           PA  2544     3056   21880312   \n",
       "3               CHEST (PORTABLE AP)           AP  2870     2402   21871016   \n",
       "4                               NaN           PA  2022     1870   21910917   \n",
       "\n",
       "    StudyTime  ... Pneumonia Pneumothorax Support Devices           race  \\\n",
       "0  213014.531  ...       NaN          NaN             NaN          White   \n",
       "1   84047.984  ...      -1.0          NaN             NaN          White   \n",
       "2  125501.842  ...       NaN          NaN             NaN  Other/Unknown   \n",
       "3  123945.421  ...       1.0          NaN             NaN          Black   \n",
       "4  130354.000  ...      -1.0          NaN             NaN          Black   \n",
       "\n",
       "      Sex  anchor_age  anchor_year  anchor_year_group         dod  split  \n",
       "0  Female        52.0       2180.0        2014 - 2016  2180-09-09  train  \n",
       "1    Male        86.0       2132.0        2014 - 2016         NaN  train  \n",
       "2  Female        80.0       2188.0        2014 - 2016         NaN  train  \n",
       "3  Female        52.0       2182.0        2008 - 2010  2187-11-12  train  \n",
       "4  Female        73.0       2186.0        2008 - 2010  2193-08-26  train  \n",
       "\n",
       "[5 rows x 34 columns]"
      ]
     },
     "execution_count": 26,
     "metadata": {},
     "output_type": "execute_result"
    }
   ],
   "source": [
    "df_cxr.head()"
   ]
  },
  {
   "cell_type": "code",
   "execution_count": 27,
   "metadata": {},
   "outputs": [],
   "source": [
    "#df_cxr.to_csv(\"/home/moritz/repositories/fair_leak/data/csv/mimic_df.csv\", index=False)"
   ]
  }
 ],
 "metadata": {
  "kernelspec": {
   "display_name": "fair_leak",
   "language": "python",
   "name": "python3"
  },
  "language_info": {
   "codemirror_mode": {
    "name": "ipython",
    "version": 3
   },
   "file_extension": ".py",
   "mimetype": "text/x-python",
   "name": "python",
   "nbconvert_exporter": "python",
   "pygments_lexer": "ipython3",
   "version": "3.9.18"
  }
 },
 "nbformat": 4,
 "nbformat_minor": 2
}
